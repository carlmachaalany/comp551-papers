{
  "nbformat": 4,
  "nbformat_minor": 0,
  "metadata": {
    "colab": {
      "provenance": []
    },
    "kernelspec": {
      "name": "python3",
      "display_name": "Python 3"
    },
    "language_info": {
      "name": "python"
    }
  },
  "cells": [
    {
      "cell_type": "markdown",
      "source": [
        "#Data preprocess and model implementation for the **Wine dataset**."
      ],
      "metadata": {
        "id": "qYc60mxz6yfK"
      }
    },
    {
      "cell_type": "code",
      "source": [
        "import numpy as np\n",
        "import pandas as pd\n",
        "\n",
        "import matplotlib.pyplot as plt\n",
        "from matplotlib.figure import backend_bases"
      ],
      "metadata": {
        "id": "kTVZTdEx6zMk"
      },
      "execution_count": null,
      "outputs": []
    },
    {
      "cell_type": "markdown",
      "source": [
        "# **Task 1: Acquire, preprocess, and analyze the data**"
      ],
      "metadata": {
        "id": "UkIuQucQM1Yb"
      }
    },
    {
      "cell_type": "markdown",
      "source": [
        "## 1. Loading the dataset"
      ],
      "metadata": {
        "id": "zcr7WiZUM5gJ"
      }
    },
    {
      "cell_type": "code",
      "source": [
        "# load wine dataset\n",
        "wine = pd.read_csv('https://archive.ics.uci.edu/static/public/109/data.csv')\n",
        "wine.head()"
      ],
      "metadata": {
        "colab": {
          "base_uri": "https://localhost:8080/",
          "height": 206
        },
        "id": "dnoKVjdy6zPr",
        "outputId": "a353c8b5-ba67-4394-f708-3edc8bf64085"
      },
      "execution_count": null,
      "outputs": [
        {
          "output_type": "execute_result",
          "data": {
            "text/plain": [
              "   Alcohol  Malicacid   Ash  Alcalinity_of_ash  Magnesium  Total_phenols  \\\n",
              "0    14.23       1.71  2.43               15.6        127           2.80   \n",
              "1    13.20       1.78  2.14               11.2        100           2.65   \n",
              "2    13.16       2.36  2.67               18.6        101           2.80   \n",
              "3    14.37       1.95  2.50               16.8        113           3.85   \n",
              "4    13.24       2.59  2.87               21.0        118           2.80   \n",
              "\n",
              "   Flavanoids  Nonflavanoid_phenols  Proanthocyanins  Color_intensity   Hue  \\\n",
              "0        3.06                  0.28             2.29             5.64  1.04   \n",
              "1        2.76                  0.26             1.28             4.38  1.05   \n",
              "2        3.24                  0.30             2.81             5.68  1.03   \n",
              "3        3.49                  0.24             2.18             7.80  0.86   \n",
              "4        2.69                  0.39             1.82             4.32  1.04   \n",
              "\n",
              "   0D280_0D315_of_diluted_wines  Proline  class  \n",
              "0                          3.92     1065      1  \n",
              "1                          3.40     1050      1  \n",
              "2                          3.17     1185      1  \n",
              "3                          3.45     1480      1  \n",
              "4                          2.93      735      1  "
            ],
            "text/html": [
              "\n",
              "  <div id=\"df-876bc6ad-da7c-400f-8e77-6733ca38bb3f\" class=\"colab-df-container\">\n",
              "    <div>\n",
              "<style scoped>\n",
              "    .dataframe tbody tr th:only-of-type {\n",
              "        vertical-align: middle;\n",
              "    }\n",
              "\n",
              "    .dataframe tbody tr th {\n",
              "        vertical-align: top;\n",
              "    }\n",
              "\n",
              "    .dataframe thead th {\n",
              "        text-align: right;\n",
              "    }\n",
              "</style>\n",
              "<table border=\"1\" class=\"dataframe\">\n",
              "  <thead>\n",
              "    <tr style=\"text-align: right;\">\n",
              "      <th></th>\n",
              "      <th>Alcohol</th>\n",
              "      <th>Malicacid</th>\n",
              "      <th>Ash</th>\n",
              "      <th>Alcalinity_of_ash</th>\n",
              "      <th>Magnesium</th>\n",
              "      <th>Total_phenols</th>\n",
              "      <th>Flavanoids</th>\n",
              "      <th>Nonflavanoid_phenols</th>\n",
              "      <th>Proanthocyanins</th>\n",
              "      <th>Color_intensity</th>\n",
              "      <th>Hue</th>\n",
              "      <th>0D280_0D315_of_diluted_wines</th>\n",
              "      <th>Proline</th>\n",
              "      <th>class</th>\n",
              "    </tr>\n",
              "  </thead>\n",
              "  <tbody>\n",
              "    <tr>\n",
              "      <th>0</th>\n",
              "      <td>14.23</td>\n",
              "      <td>1.71</td>\n",
              "      <td>2.43</td>\n",
              "      <td>15.6</td>\n",
              "      <td>127</td>\n",
              "      <td>2.80</td>\n",
              "      <td>3.06</td>\n",
              "      <td>0.28</td>\n",
              "      <td>2.29</td>\n",
              "      <td>5.64</td>\n",
              "      <td>1.04</td>\n",
              "      <td>3.92</td>\n",
              "      <td>1065</td>\n",
              "      <td>1</td>\n",
              "    </tr>\n",
              "    <tr>\n",
              "      <th>1</th>\n",
              "      <td>13.20</td>\n",
              "      <td>1.78</td>\n",
              "      <td>2.14</td>\n",
              "      <td>11.2</td>\n",
              "      <td>100</td>\n",
              "      <td>2.65</td>\n",
              "      <td>2.76</td>\n",
              "      <td>0.26</td>\n",
              "      <td>1.28</td>\n",
              "      <td>4.38</td>\n",
              "      <td>1.05</td>\n",
              "      <td>3.40</td>\n",
              "      <td>1050</td>\n",
              "      <td>1</td>\n",
              "    </tr>\n",
              "    <tr>\n",
              "      <th>2</th>\n",
              "      <td>13.16</td>\n",
              "      <td>2.36</td>\n",
              "      <td>2.67</td>\n",
              "      <td>18.6</td>\n",
              "      <td>101</td>\n",
              "      <td>2.80</td>\n",
              "      <td>3.24</td>\n",
              "      <td>0.30</td>\n",
              "      <td>2.81</td>\n",
              "      <td>5.68</td>\n",
              "      <td>1.03</td>\n",
              "      <td>3.17</td>\n",
              "      <td>1185</td>\n",
              "      <td>1</td>\n",
              "    </tr>\n",
              "    <tr>\n",
              "      <th>3</th>\n",
              "      <td>14.37</td>\n",
              "      <td>1.95</td>\n",
              "      <td>2.50</td>\n",
              "      <td>16.8</td>\n",
              "      <td>113</td>\n",
              "      <td>3.85</td>\n",
              "      <td>3.49</td>\n",
              "      <td>0.24</td>\n",
              "      <td>2.18</td>\n",
              "      <td>7.80</td>\n",
              "      <td>0.86</td>\n",
              "      <td>3.45</td>\n",
              "      <td>1480</td>\n",
              "      <td>1</td>\n",
              "    </tr>\n",
              "    <tr>\n",
              "      <th>4</th>\n",
              "      <td>13.24</td>\n",
              "      <td>2.59</td>\n",
              "      <td>2.87</td>\n",
              "      <td>21.0</td>\n",
              "      <td>118</td>\n",
              "      <td>2.80</td>\n",
              "      <td>2.69</td>\n",
              "      <td>0.39</td>\n",
              "      <td>1.82</td>\n",
              "      <td>4.32</td>\n",
              "      <td>1.04</td>\n",
              "      <td>2.93</td>\n",
              "      <td>735</td>\n",
              "      <td>1</td>\n",
              "    </tr>\n",
              "  </tbody>\n",
              "</table>\n",
              "</div>\n",
              "    <div class=\"colab-df-buttons\">\n",
              "\n",
              "  <div class=\"colab-df-container\">\n",
              "    <button class=\"colab-df-convert\" onclick=\"convertToInteractive('df-876bc6ad-da7c-400f-8e77-6733ca38bb3f')\"\n",
              "            title=\"Convert this dataframe to an interactive table.\"\n",
              "            style=\"display:none;\">\n",
              "\n",
              "  <svg xmlns=\"http://www.w3.org/2000/svg\" height=\"24px\" viewBox=\"0 -960 960 960\">\n",
              "    <path d=\"M120-120v-720h720v720H120Zm60-500h600v-160H180v160Zm220 220h160v-160H400v160Zm0 220h160v-160H400v160ZM180-400h160v-160H180v160Zm440 0h160v-160H620v160ZM180-180h160v-160H180v160Zm440 0h160v-160H620v160Z\"/>\n",
              "  </svg>\n",
              "    </button>\n",
              "\n",
              "  <style>\n",
              "    .colab-df-container {\n",
              "      display:flex;\n",
              "      gap: 12px;\n",
              "    }\n",
              "\n",
              "    .colab-df-convert {\n",
              "      background-color: #E8F0FE;\n",
              "      border: none;\n",
              "      border-radius: 50%;\n",
              "      cursor: pointer;\n",
              "      display: none;\n",
              "      fill: #1967D2;\n",
              "      height: 32px;\n",
              "      padding: 0 0 0 0;\n",
              "      width: 32px;\n",
              "    }\n",
              "\n",
              "    .colab-df-convert:hover {\n",
              "      background-color: #E2EBFA;\n",
              "      box-shadow: 0px 1px 2px rgba(60, 64, 67, 0.3), 0px 1px 3px 1px rgba(60, 64, 67, 0.15);\n",
              "      fill: #174EA6;\n",
              "    }\n",
              "\n",
              "    .colab-df-buttons div {\n",
              "      margin-bottom: 4px;\n",
              "    }\n",
              "\n",
              "    [theme=dark] .colab-df-convert {\n",
              "      background-color: #3B4455;\n",
              "      fill: #D2E3FC;\n",
              "    }\n",
              "\n",
              "    [theme=dark] .colab-df-convert:hover {\n",
              "      background-color: #434B5C;\n",
              "      box-shadow: 0px 1px 3px 1px rgba(0, 0, 0, 0.15);\n",
              "      filter: drop-shadow(0px 1px 2px rgba(0, 0, 0, 0.3));\n",
              "      fill: #FFFFFF;\n",
              "    }\n",
              "  </style>\n",
              "\n",
              "    <script>\n",
              "      const buttonEl =\n",
              "        document.querySelector('#df-876bc6ad-da7c-400f-8e77-6733ca38bb3f button.colab-df-convert');\n",
              "      buttonEl.style.display =\n",
              "        google.colab.kernel.accessAllowed ? 'block' : 'none';\n",
              "\n",
              "      async function convertToInteractive(key) {\n",
              "        const element = document.querySelector('#df-876bc6ad-da7c-400f-8e77-6733ca38bb3f');\n",
              "        const dataTable =\n",
              "          await google.colab.kernel.invokeFunction('convertToInteractive',\n",
              "                                                    [key], {});\n",
              "        if (!dataTable) return;\n",
              "\n",
              "        const docLinkHtml = 'Like what you see? Visit the ' +\n",
              "          '<a target=\"_blank\" href=https://colab.research.google.com/notebooks/data_table.ipynb>data table notebook</a>'\n",
              "          + ' to learn more about interactive tables.';\n",
              "        element.innerHTML = '';\n",
              "        dataTable['output_type'] = 'display_data';\n",
              "        await google.colab.output.renderOutput(dataTable, element);\n",
              "        const docLink = document.createElement('div');\n",
              "        docLink.innerHTML = docLinkHtml;\n",
              "        element.appendChild(docLink);\n",
              "      }\n",
              "    </script>\n",
              "  </div>\n",
              "\n",
              "\n",
              "<div id=\"df-4aaaddb6-d060-49a8-83f5-8f8282985dbd\">\n",
              "  <button class=\"colab-df-quickchart\" onclick=\"quickchart('df-4aaaddb6-d060-49a8-83f5-8f8282985dbd')\"\n",
              "            title=\"Suggest charts.\"\n",
              "            style=\"display:none;\">\n",
              "\n",
              "<svg xmlns=\"http://www.w3.org/2000/svg\" height=\"24px\"viewBox=\"0 0 24 24\"\n",
              "     width=\"24px\">\n",
              "    <g>\n",
              "        <path d=\"M19 3H5c-1.1 0-2 .9-2 2v14c0 1.1.9 2 2 2h14c1.1 0 2-.9 2-2V5c0-1.1-.9-2-2-2zM9 17H7v-7h2v7zm4 0h-2V7h2v10zm4 0h-2v-4h2v4z\"/>\n",
              "    </g>\n",
              "</svg>\n",
              "  </button>\n",
              "\n",
              "<style>\n",
              "  .colab-df-quickchart {\n",
              "      --bg-color: #E8F0FE;\n",
              "      --fill-color: #1967D2;\n",
              "      --hover-bg-color: #E2EBFA;\n",
              "      --hover-fill-color: #174EA6;\n",
              "      --disabled-fill-color: #AAA;\n",
              "      --disabled-bg-color: #DDD;\n",
              "  }\n",
              "\n",
              "  [theme=dark] .colab-df-quickchart {\n",
              "      --bg-color: #3B4455;\n",
              "      --fill-color: #D2E3FC;\n",
              "      --hover-bg-color: #434B5C;\n",
              "      --hover-fill-color: #FFFFFF;\n",
              "      --disabled-bg-color: #3B4455;\n",
              "      --disabled-fill-color: #666;\n",
              "  }\n",
              "\n",
              "  .colab-df-quickchart {\n",
              "    background-color: var(--bg-color);\n",
              "    border: none;\n",
              "    border-radius: 50%;\n",
              "    cursor: pointer;\n",
              "    display: none;\n",
              "    fill: var(--fill-color);\n",
              "    height: 32px;\n",
              "    padding: 0;\n",
              "    width: 32px;\n",
              "  }\n",
              "\n",
              "  .colab-df-quickchart:hover {\n",
              "    background-color: var(--hover-bg-color);\n",
              "    box-shadow: 0 1px 2px rgba(60, 64, 67, 0.3), 0 1px 3px 1px rgba(60, 64, 67, 0.15);\n",
              "    fill: var(--button-hover-fill-color);\n",
              "  }\n",
              "\n",
              "  .colab-df-quickchart-complete:disabled,\n",
              "  .colab-df-quickchart-complete:disabled:hover {\n",
              "    background-color: var(--disabled-bg-color);\n",
              "    fill: var(--disabled-fill-color);\n",
              "    box-shadow: none;\n",
              "  }\n",
              "\n",
              "  .colab-df-spinner {\n",
              "    border: 2px solid var(--fill-color);\n",
              "    border-color: transparent;\n",
              "    border-bottom-color: var(--fill-color);\n",
              "    animation:\n",
              "      spin 1s steps(1) infinite;\n",
              "  }\n",
              "\n",
              "  @keyframes spin {\n",
              "    0% {\n",
              "      border-color: transparent;\n",
              "      border-bottom-color: var(--fill-color);\n",
              "      border-left-color: var(--fill-color);\n",
              "    }\n",
              "    20% {\n",
              "      border-color: transparent;\n",
              "      border-left-color: var(--fill-color);\n",
              "      border-top-color: var(--fill-color);\n",
              "    }\n",
              "    30% {\n",
              "      border-color: transparent;\n",
              "      border-left-color: var(--fill-color);\n",
              "      border-top-color: var(--fill-color);\n",
              "      border-right-color: var(--fill-color);\n",
              "    }\n",
              "    40% {\n",
              "      border-color: transparent;\n",
              "      border-right-color: var(--fill-color);\n",
              "      border-top-color: var(--fill-color);\n",
              "    }\n",
              "    60% {\n",
              "      border-color: transparent;\n",
              "      border-right-color: var(--fill-color);\n",
              "    }\n",
              "    80% {\n",
              "      border-color: transparent;\n",
              "      border-right-color: var(--fill-color);\n",
              "      border-bottom-color: var(--fill-color);\n",
              "    }\n",
              "    90% {\n",
              "      border-color: transparent;\n",
              "      border-bottom-color: var(--fill-color);\n",
              "    }\n",
              "  }\n",
              "</style>\n",
              "\n",
              "  <script>\n",
              "    async function quickchart(key) {\n",
              "      const quickchartButtonEl =\n",
              "        document.querySelector('#' + key + ' button');\n",
              "      quickchartButtonEl.disabled = true;  // To prevent multiple clicks.\n",
              "      quickchartButtonEl.classList.add('colab-df-spinner');\n",
              "      try {\n",
              "        const charts = await google.colab.kernel.invokeFunction(\n",
              "            'suggestCharts', [key], {});\n",
              "      } catch (error) {\n",
              "        console.error('Error during call to suggestCharts:', error);\n",
              "      }\n",
              "      quickchartButtonEl.classList.remove('colab-df-spinner');\n",
              "      quickchartButtonEl.classList.add('colab-df-quickchart-complete');\n",
              "    }\n",
              "    (() => {\n",
              "      let quickchartButtonEl =\n",
              "        document.querySelector('#df-4aaaddb6-d060-49a8-83f5-8f8282985dbd button');\n",
              "      quickchartButtonEl.style.display =\n",
              "        google.colab.kernel.accessAllowed ? 'block' : 'none';\n",
              "    })();\n",
              "  </script>\n",
              "</div>\n",
              "    </div>\n",
              "  </div>\n"
            ]
          },
          "metadata": {},
          "execution_count": 2
        }
      ]
    },
    {
      "cell_type": "markdown",
      "source": [
        "## 2. Cleaning the data"
      ],
      "metadata": {
        "id": "AYpqSGwtRpWE"
      }
    },
    {
      "cell_type": "code",
      "source": [
        "wine.isin(['?']).sum(axis=0)"
      ],
      "metadata": {
        "colab": {
          "base_uri": "https://localhost:8080/"
        },
        "id": "4ixww0hPzT9E",
        "outputId": "e03d60b0-3445-49c9-a44f-cce7189c85ef"
      },
      "execution_count": null,
      "outputs": [
        {
          "output_type": "execute_result",
          "data": {
            "text/plain": [
              "Alcohol                         0\n",
              "Malicacid                       0\n",
              "Ash                             0\n",
              "Alcalinity_of_ash               0\n",
              "Magnesium                       0\n",
              "Total_phenols                   0\n",
              "Flavanoids                      0\n",
              "Nonflavanoid_phenols            0\n",
              "Proanthocyanins                 0\n",
              "Color_intensity                 0\n",
              "Hue                             0\n",
              "0D280_0D315_of_diluted_wines    0\n",
              "Proline                         0\n",
              "class                           0\n",
              "dtype: int64"
            ]
          },
          "metadata": {},
          "execution_count": 3
        }
      ]
    },
    {
      "cell_type": "markdown",
      "source": [
        "Although we can see there is no missing value in the wine dataset, we still include the following cleaning step just as a part of standard workflow."
      ],
      "metadata": {
        "id": "jTCEw-q4zm0Q"
      }
    },
    {
      "cell_type": "code",
      "source": [
        "# clean the wine dataset\n",
        "clean_wine = wine[~wine.eq('?').any(1)]\n",
        "wine.isin(['?']).sum(axis=0)"
      ],
      "metadata": {
        "colab": {
          "base_uri": "https://localhost:8080/"
        },
        "id": "jcQ7Miuu6_kx",
        "outputId": "ca4057f7-22ee-4df4-cda2-5b7f55ec4560"
      },
      "execution_count": null,
      "outputs": [
        {
          "output_type": "stream",
          "name": "stderr",
          "text": [
            "<ipython-input-4-f59ede07ccd4>:2: FutureWarning: In a future version of pandas all arguments of DataFrame.any and Series.any will be keyword-only.\n",
            "  clean_wine = wine[~wine.eq('?').any(1)]\n"
          ]
        },
        {
          "output_type": "execute_result",
          "data": {
            "text/plain": [
              "Alcohol                         0\n",
              "Malicacid                       0\n",
              "Ash                             0\n",
              "Alcalinity_of_ash               0\n",
              "Magnesium                       0\n",
              "Total_phenols                   0\n",
              "Flavanoids                      0\n",
              "Nonflavanoid_phenols            0\n",
              "Proanthocyanins                 0\n",
              "Color_intensity                 0\n",
              "Hue                             0\n",
              "0D280_0D315_of_diluted_wines    0\n",
              "Proline                         0\n",
              "class                           0\n",
              "dtype: int64"
            ]
          },
          "metadata": {},
          "execution_count": 4
        }
      ]
    },
    {
      "cell_type": "code",
      "source": [
        "wine.info()"
      ],
      "metadata": {
        "colab": {
          "base_uri": "https://localhost:8080/"
        },
        "id": "EBm-KjT3SUSp",
        "outputId": "a3bbc465-c160-44dc-9b8b-10bb837a0189"
      },
      "execution_count": null,
      "outputs": [
        {
          "output_type": "stream",
          "name": "stdout",
          "text": [
            "<class 'pandas.core.frame.DataFrame'>\n",
            "RangeIndex: 178 entries, 0 to 177\n",
            "Data columns (total 14 columns):\n",
            " #   Column                        Non-Null Count  Dtype  \n",
            "---  ------                        --------------  -----  \n",
            " 0   Alcohol                       178 non-null    float64\n",
            " 1   Malicacid                     178 non-null    float64\n",
            " 2   Ash                           178 non-null    float64\n",
            " 3   Alcalinity_of_ash             178 non-null    float64\n",
            " 4   Magnesium                     178 non-null    int64  \n",
            " 5   Total_phenols                 178 non-null    float64\n",
            " 6   Flavanoids                    178 non-null    float64\n",
            " 7   Nonflavanoid_phenols          178 non-null    float64\n",
            " 8   Proanthocyanins               178 non-null    float64\n",
            " 9   Color_intensity               178 non-null    float64\n",
            " 10  Hue                           178 non-null    float64\n",
            " 11  0D280_0D315_of_diluted_wines  178 non-null    float64\n",
            " 12  Proline                       178 non-null    int64  \n",
            " 13  class                         178 non-null    int64  \n",
            "dtypes: float64(11), int64(3)\n",
            "memory usage: 19.6 KB\n"
          ]
        }
      ]
    },
    {
      "cell_type": "markdown",
      "source": [
        "## 3. Computing Basic Statistics"
      ],
      "metadata": {
        "id": "yxJBG2_jR1qP"
      }
    },
    {
      "cell_type": "code",
      "source": [
        "wine.describe()"
      ],
      "metadata": {
        "colab": {
          "base_uri": "https://localhost:8080/",
          "height": 300
        },
        "id": "XIyATSUXSB6I",
        "outputId": "398390c8-dea9-47d0-ee98-0bfb076d5cf9"
      },
      "execution_count": null,
      "outputs": [
        {
          "output_type": "execute_result",
          "data": {
            "text/plain": [
              "          Alcohol   Malicacid         Ash  Alcalinity_of_ash   Magnesium  \\\n",
              "count  178.000000  178.000000  178.000000         178.000000  178.000000   \n",
              "mean    13.000618    2.336348    2.366517          19.494944   99.741573   \n",
              "std      0.811827    1.117146    0.274344           3.339564   14.282484   \n",
              "min     11.030000    0.740000    1.360000          10.600000   70.000000   \n",
              "25%     12.362500    1.602500    2.210000          17.200000   88.000000   \n",
              "50%     13.050000    1.865000    2.360000          19.500000   98.000000   \n",
              "75%     13.677500    3.082500    2.557500          21.500000  107.000000   \n",
              "max     14.830000    5.800000    3.230000          30.000000  162.000000   \n",
              "\n",
              "       Total_phenols  Flavanoids  Nonflavanoid_phenols  Proanthocyanins  \\\n",
              "count     178.000000  178.000000            178.000000       178.000000   \n",
              "mean        2.295112    2.029270              0.361854         1.590899   \n",
              "std         0.625851    0.998859              0.124453         0.572359   \n",
              "min         0.980000    0.340000              0.130000         0.410000   \n",
              "25%         1.742500    1.205000              0.270000         1.250000   \n",
              "50%         2.355000    2.135000              0.340000         1.555000   \n",
              "75%         2.800000    2.875000              0.437500         1.950000   \n",
              "max         3.880000    5.080000              0.660000         3.580000   \n",
              "\n",
              "       Color_intensity         Hue  0D280_0D315_of_diluted_wines      Proline  \\\n",
              "count       178.000000  178.000000                    178.000000   178.000000   \n",
              "mean          5.058090    0.957449                      2.611685   746.893258   \n",
              "std           2.318286    0.228572                      0.709990   314.907474   \n",
              "min           1.280000    0.480000                      1.270000   278.000000   \n",
              "25%           3.220000    0.782500                      1.937500   500.500000   \n",
              "50%           4.690000    0.965000                      2.780000   673.500000   \n",
              "75%           6.200000    1.120000                      3.170000   985.000000   \n",
              "max          13.000000    1.710000                      4.000000  1680.000000   \n",
              "\n",
              "            class  \n",
              "count  178.000000  \n",
              "mean     1.938202  \n",
              "std      0.775035  \n",
              "min      1.000000  \n",
              "25%      1.000000  \n",
              "50%      2.000000  \n",
              "75%      3.000000  \n",
              "max      3.000000  "
            ],
            "text/html": [
              "\n",
              "  <div id=\"df-ea97d71f-0aa6-4156-8310-f38b095fb67e\" class=\"colab-df-container\">\n",
              "    <div>\n",
              "<style scoped>\n",
              "    .dataframe tbody tr th:only-of-type {\n",
              "        vertical-align: middle;\n",
              "    }\n",
              "\n",
              "    .dataframe tbody tr th {\n",
              "        vertical-align: top;\n",
              "    }\n",
              "\n",
              "    .dataframe thead th {\n",
              "        text-align: right;\n",
              "    }\n",
              "</style>\n",
              "<table border=\"1\" class=\"dataframe\">\n",
              "  <thead>\n",
              "    <tr style=\"text-align: right;\">\n",
              "      <th></th>\n",
              "      <th>Alcohol</th>\n",
              "      <th>Malicacid</th>\n",
              "      <th>Ash</th>\n",
              "      <th>Alcalinity_of_ash</th>\n",
              "      <th>Magnesium</th>\n",
              "      <th>Total_phenols</th>\n",
              "      <th>Flavanoids</th>\n",
              "      <th>Nonflavanoid_phenols</th>\n",
              "      <th>Proanthocyanins</th>\n",
              "      <th>Color_intensity</th>\n",
              "      <th>Hue</th>\n",
              "      <th>0D280_0D315_of_diluted_wines</th>\n",
              "      <th>Proline</th>\n",
              "      <th>class</th>\n",
              "    </tr>\n",
              "  </thead>\n",
              "  <tbody>\n",
              "    <tr>\n",
              "      <th>count</th>\n",
              "      <td>178.000000</td>\n",
              "      <td>178.000000</td>\n",
              "      <td>178.000000</td>\n",
              "      <td>178.000000</td>\n",
              "      <td>178.000000</td>\n",
              "      <td>178.000000</td>\n",
              "      <td>178.000000</td>\n",
              "      <td>178.000000</td>\n",
              "      <td>178.000000</td>\n",
              "      <td>178.000000</td>\n",
              "      <td>178.000000</td>\n",
              "      <td>178.000000</td>\n",
              "      <td>178.000000</td>\n",
              "      <td>178.000000</td>\n",
              "    </tr>\n",
              "    <tr>\n",
              "      <th>mean</th>\n",
              "      <td>13.000618</td>\n",
              "      <td>2.336348</td>\n",
              "      <td>2.366517</td>\n",
              "      <td>19.494944</td>\n",
              "      <td>99.741573</td>\n",
              "      <td>2.295112</td>\n",
              "      <td>2.029270</td>\n",
              "      <td>0.361854</td>\n",
              "      <td>1.590899</td>\n",
              "      <td>5.058090</td>\n",
              "      <td>0.957449</td>\n",
              "      <td>2.611685</td>\n",
              "      <td>746.893258</td>\n",
              "      <td>1.938202</td>\n",
              "    </tr>\n",
              "    <tr>\n",
              "      <th>std</th>\n",
              "      <td>0.811827</td>\n",
              "      <td>1.117146</td>\n",
              "      <td>0.274344</td>\n",
              "      <td>3.339564</td>\n",
              "      <td>14.282484</td>\n",
              "      <td>0.625851</td>\n",
              "      <td>0.998859</td>\n",
              "      <td>0.124453</td>\n",
              "      <td>0.572359</td>\n",
              "      <td>2.318286</td>\n",
              "      <td>0.228572</td>\n",
              "      <td>0.709990</td>\n",
              "      <td>314.907474</td>\n",
              "      <td>0.775035</td>\n",
              "    </tr>\n",
              "    <tr>\n",
              "      <th>min</th>\n",
              "      <td>11.030000</td>\n",
              "      <td>0.740000</td>\n",
              "      <td>1.360000</td>\n",
              "      <td>10.600000</td>\n",
              "      <td>70.000000</td>\n",
              "      <td>0.980000</td>\n",
              "      <td>0.340000</td>\n",
              "      <td>0.130000</td>\n",
              "      <td>0.410000</td>\n",
              "      <td>1.280000</td>\n",
              "      <td>0.480000</td>\n",
              "      <td>1.270000</td>\n",
              "      <td>278.000000</td>\n",
              "      <td>1.000000</td>\n",
              "    </tr>\n",
              "    <tr>\n",
              "      <th>25%</th>\n",
              "      <td>12.362500</td>\n",
              "      <td>1.602500</td>\n",
              "      <td>2.210000</td>\n",
              "      <td>17.200000</td>\n",
              "      <td>88.000000</td>\n",
              "      <td>1.742500</td>\n",
              "      <td>1.205000</td>\n",
              "      <td>0.270000</td>\n",
              "      <td>1.250000</td>\n",
              "      <td>3.220000</td>\n",
              "      <td>0.782500</td>\n",
              "      <td>1.937500</td>\n",
              "      <td>500.500000</td>\n",
              "      <td>1.000000</td>\n",
              "    </tr>\n",
              "    <tr>\n",
              "      <th>50%</th>\n",
              "      <td>13.050000</td>\n",
              "      <td>1.865000</td>\n",
              "      <td>2.360000</td>\n",
              "      <td>19.500000</td>\n",
              "      <td>98.000000</td>\n",
              "      <td>2.355000</td>\n",
              "      <td>2.135000</td>\n",
              "      <td>0.340000</td>\n",
              "      <td>1.555000</td>\n",
              "      <td>4.690000</td>\n",
              "      <td>0.965000</td>\n",
              "      <td>2.780000</td>\n",
              "      <td>673.500000</td>\n",
              "      <td>2.000000</td>\n",
              "    </tr>\n",
              "    <tr>\n",
              "      <th>75%</th>\n",
              "      <td>13.677500</td>\n",
              "      <td>3.082500</td>\n",
              "      <td>2.557500</td>\n",
              "      <td>21.500000</td>\n",
              "      <td>107.000000</td>\n",
              "      <td>2.800000</td>\n",
              "      <td>2.875000</td>\n",
              "      <td>0.437500</td>\n",
              "      <td>1.950000</td>\n",
              "      <td>6.200000</td>\n",
              "      <td>1.120000</td>\n",
              "      <td>3.170000</td>\n",
              "      <td>985.000000</td>\n",
              "      <td>3.000000</td>\n",
              "    </tr>\n",
              "    <tr>\n",
              "      <th>max</th>\n",
              "      <td>14.830000</td>\n",
              "      <td>5.800000</td>\n",
              "      <td>3.230000</td>\n",
              "      <td>30.000000</td>\n",
              "      <td>162.000000</td>\n",
              "      <td>3.880000</td>\n",
              "      <td>5.080000</td>\n",
              "      <td>0.660000</td>\n",
              "      <td>3.580000</td>\n",
              "      <td>13.000000</td>\n",
              "      <td>1.710000</td>\n",
              "      <td>4.000000</td>\n",
              "      <td>1680.000000</td>\n",
              "      <td>3.000000</td>\n",
              "    </tr>\n",
              "  </tbody>\n",
              "</table>\n",
              "</div>\n",
              "    <div class=\"colab-df-buttons\">\n",
              "\n",
              "  <div class=\"colab-df-container\">\n",
              "    <button class=\"colab-df-convert\" onclick=\"convertToInteractive('df-ea97d71f-0aa6-4156-8310-f38b095fb67e')\"\n",
              "            title=\"Convert this dataframe to an interactive table.\"\n",
              "            style=\"display:none;\">\n",
              "\n",
              "  <svg xmlns=\"http://www.w3.org/2000/svg\" height=\"24px\" viewBox=\"0 -960 960 960\">\n",
              "    <path d=\"M120-120v-720h720v720H120Zm60-500h600v-160H180v160Zm220 220h160v-160H400v160Zm0 220h160v-160H400v160ZM180-400h160v-160H180v160Zm440 0h160v-160H620v160ZM180-180h160v-160H180v160Zm440 0h160v-160H620v160Z\"/>\n",
              "  </svg>\n",
              "    </button>\n",
              "\n",
              "  <style>\n",
              "    .colab-df-container {\n",
              "      display:flex;\n",
              "      gap: 12px;\n",
              "    }\n",
              "\n",
              "    .colab-df-convert {\n",
              "      background-color: #E8F0FE;\n",
              "      border: none;\n",
              "      border-radius: 50%;\n",
              "      cursor: pointer;\n",
              "      display: none;\n",
              "      fill: #1967D2;\n",
              "      height: 32px;\n",
              "      padding: 0 0 0 0;\n",
              "      width: 32px;\n",
              "    }\n",
              "\n",
              "    .colab-df-convert:hover {\n",
              "      background-color: #E2EBFA;\n",
              "      box-shadow: 0px 1px 2px rgba(60, 64, 67, 0.3), 0px 1px 3px 1px rgba(60, 64, 67, 0.15);\n",
              "      fill: #174EA6;\n",
              "    }\n",
              "\n",
              "    .colab-df-buttons div {\n",
              "      margin-bottom: 4px;\n",
              "    }\n",
              "\n",
              "    [theme=dark] .colab-df-convert {\n",
              "      background-color: #3B4455;\n",
              "      fill: #D2E3FC;\n",
              "    }\n",
              "\n",
              "    [theme=dark] .colab-df-convert:hover {\n",
              "      background-color: #434B5C;\n",
              "      box-shadow: 0px 1px 3px 1px rgba(0, 0, 0, 0.15);\n",
              "      filter: drop-shadow(0px 1px 2px rgba(0, 0, 0, 0.3));\n",
              "      fill: #FFFFFF;\n",
              "    }\n",
              "  </style>\n",
              "\n",
              "    <script>\n",
              "      const buttonEl =\n",
              "        document.querySelector('#df-ea97d71f-0aa6-4156-8310-f38b095fb67e button.colab-df-convert');\n",
              "      buttonEl.style.display =\n",
              "        google.colab.kernel.accessAllowed ? 'block' : 'none';\n",
              "\n",
              "      async function convertToInteractive(key) {\n",
              "        const element = document.querySelector('#df-ea97d71f-0aa6-4156-8310-f38b095fb67e');\n",
              "        const dataTable =\n",
              "          await google.colab.kernel.invokeFunction('convertToInteractive',\n",
              "                                                    [key], {});\n",
              "        if (!dataTable) return;\n",
              "\n",
              "        const docLinkHtml = 'Like what you see? Visit the ' +\n",
              "          '<a target=\"_blank\" href=https://colab.research.google.com/notebooks/data_table.ipynb>data table notebook</a>'\n",
              "          + ' to learn more about interactive tables.';\n",
              "        element.innerHTML = '';\n",
              "        dataTable['output_type'] = 'display_data';\n",
              "        await google.colab.output.renderOutput(dataTable, element);\n",
              "        const docLink = document.createElement('div');\n",
              "        docLink.innerHTML = docLinkHtml;\n",
              "        element.appendChild(docLink);\n",
              "      }\n",
              "    </script>\n",
              "  </div>\n",
              "\n",
              "\n",
              "<div id=\"df-6182601f-ec3e-4f98-a963-5719a12d9a44\">\n",
              "  <button class=\"colab-df-quickchart\" onclick=\"quickchart('df-6182601f-ec3e-4f98-a963-5719a12d9a44')\"\n",
              "            title=\"Suggest charts.\"\n",
              "            style=\"display:none;\">\n",
              "\n",
              "<svg xmlns=\"http://www.w3.org/2000/svg\" height=\"24px\"viewBox=\"0 0 24 24\"\n",
              "     width=\"24px\">\n",
              "    <g>\n",
              "        <path d=\"M19 3H5c-1.1 0-2 .9-2 2v14c0 1.1.9 2 2 2h14c1.1 0 2-.9 2-2V5c0-1.1-.9-2-2-2zM9 17H7v-7h2v7zm4 0h-2V7h2v10zm4 0h-2v-4h2v4z\"/>\n",
              "    </g>\n",
              "</svg>\n",
              "  </button>\n",
              "\n",
              "<style>\n",
              "  .colab-df-quickchart {\n",
              "      --bg-color: #E8F0FE;\n",
              "      --fill-color: #1967D2;\n",
              "      --hover-bg-color: #E2EBFA;\n",
              "      --hover-fill-color: #174EA6;\n",
              "      --disabled-fill-color: #AAA;\n",
              "      --disabled-bg-color: #DDD;\n",
              "  }\n",
              "\n",
              "  [theme=dark] .colab-df-quickchart {\n",
              "      --bg-color: #3B4455;\n",
              "      --fill-color: #D2E3FC;\n",
              "      --hover-bg-color: #434B5C;\n",
              "      --hover-fill-color: #FFFFFF;\n",
              "      --disabled-bg-color: #3B4455;\n",
              "      --disabled-fill-color: #666;\n",
              "  }\n",
              "\n",
              "  .colab-df-quickchart {\n",
              "    background-color: var(--bg-color);\n",
              "    border: none;\n",
              "    border-radius: 50%;\n",
              "    cursor: pointer;\n",
              "    display: none;\n",
              "    fill: var(--fill-color);\n",
              "    height: 32px;\n",
              "    padding: 0;\n",
              "    width: 32px;\n",
              "  }\n",
              "\n",
              "  .colab-df-quickchart:hover {\n",
              "    background-color: var(--hover-bg-color);\n",
              "    box-shadow: 0 1px 2px rgba(60, 64, 67, 0.3), 0 1px 3px 1px rgba(60, 64, 67, 0.15);\n",
              "    fill: var(--button-hover-fill-color);\n",
              "  }\n",
              "\n",
              "  .colab-df-quickchart-complete:disabled,\n",
              "  .colab-df-quickchart-complete:disabled:hover {\n",
              "    background-color: var(--disabled-bg-color);\n",
              "    fill: var(--disabled-fill-color);\n",
              "    box-shadow: none;\n",
              "  }\n",
              "\n",
              "  .colab-df-spinner {\n",
              "    border: 2px solid var(--fill-color);\n",
              "    border-color: transparent;\n",
              "    border-bottom-color: var(--fill-color);\n",
              "    animation:\n",
              "      spin 1s steps(1) infinite;\n",
              "  }\n",
              "\n",
              "  @keyframes spin {\n",
              "    0% {\n",
              "      border-color: transparent;\n",
              "      border-bottom-color: var(--fill-color);\n",
              "      border-left-color: var(--fill-color);\n",
              "    }\n",
              "    20% {\n",
              "      border-color: transparent;\n",
              "      border-left-color: var(--fill-color);\n",
              "      border-top-color: var(--fill-color);\n",
              "    }\n",
              "    30% {\n",
              "      border-color: transparent;\n",
              "      border-left-color: var(--fill-color);\n",
              "      border-top-color: var(--fill-color);\n",
              "      border-right-color: var(--fill-color);\n",
              "    }\n",
              "    40% {\n",
              "      border-color: transparent;\n",
              "      border-right-color: var(--fill-color);\n",
              "      border-top-color: var(--fill-color);\n",
              "    }\n",
              "    60% {\n",
              "      border-color: transparent;\n",
              "      border-right-color: var(--fill-color);\n",
              "    }\n",
              "    80% {\n",
              "      border-color: transparent;\n",
              "      border-right-color: var(--fill-color);\n",
              "      border-bottom-color: var(--fill-color);\n",
              "    }\n",
              "    90% {\n",
              "      border-color: transparent;\n",
              "      border-bottom-color: var(--fill-color);\n",
              "    }\n",
              "  }\n",
              "</style>\n",
              "\n",
              "  <script>\n",
              "    async function quickchart(key) {\n",
              "      const quickchartButtonEl =\n",
              "        document.querySelector('#' + key + ' button');\n",
              "      quickchartButtonEl.disabled = true;  // To prevent multiple clicks.\n",
              "      quickchartButtonEl.classList.add('colab-df-spinner');\n",
              "      try {\n",
              "        const charts = await google.colab.kernel.invokeFunction(\n",
              "            'suggestCharts', [key], {});\n",
              "      } catch (error) {\n",
              "        console.error('Error during call to suggestCharts:', error);\n",
              "      }\n",
              "      quickchartButtonEl.classList.remove('colab-df-spinner');\n",
              "      quickchartButtonEl.classList.add('colab-df-quickchart-complete');\n",
              "    }\n",
              "    (() => {\n",
              "      let quickchartButtonEl =\n",
              "        document.querySelector('#df-6182601f-ec3e-4f98-a963-5719a12d9a44 button');\n",
              "      quickchartButtonEl.style.display =\n",
              "        google.colab.kernel.accessAllowed ? 'block' : 'none';\n",
              "    })();\n",
              "  </script>\n",
              "</div>\n",
              "    </div>\n",
              "  </div>\n"
            ]
          },
          "metadata": {},
          "execution_count": 6
        }
      ]
    },
    {
      "cell_type": "code",
      "source": [
        "wine[\"class\"].value_counts()"
      ],
      "metadata": {
        "colab": {
          "base_uri": "https://localhost:8080/"
        },
        "id": "21MquTNUSiQ9",
        "outputId": "0bc6fa5c-fde7-4e15-f96f-2f11795f80ae"
      },
      "execution_count": null,
      "outputs": [
        {
          "output_type": "execute_result",
          "data": {
            "text/plain": [
              "2    71\n",
              "1    59\n",
              "3    48\n",
              "Name: class, dtype: int64"
            ]
          },
          "metadata": {},
          "execution_count": 7
        }
      ]
    },
    {
      "cell_type": "code",
      "source": [
        "fig, axes = plt.subplots(2, 7, figsize=(10, 8), gridspec_kw={'hspace': 0.25, 'wspace': 0.5})\n",
        "\n",
        "# Adjusting the layout parameters\n",
        "wine.hist(ax=axes, bins=20, color='skyblue', edgecolor='black')\n",
        "\n",
        "# Adjusting figure layout\n",
        "plt.subplots_adjust(top=0.9, left=0, right=1.1)\n",
        "\n",
        "# Show the plot\n",
        "plt.show()"
      ],
      "metadata": {
        "colab": {
          "base_uri": "https://localhost:8080/",
          "height": 715
        },
        "id": "6CaOMfbA7E8A",
        "outputId": "46c8d502-e8d2-44cf-e3a3-f0674ed92eae"
      },
      "execution_count": null,
      "outputs": [
        {
          "output_type": "display_data",
          "data": {
            "text/plain": [
              "<Figure size 1000x800 with 14 Axes>"
            ],
            "image/png": "[encoded data removed]"
          },
          "metadata": {}
        }
      ]
    },
    {
      "cell_type": "markdown",
      "source": [
        "Here we've had some basic insight on the wine dataset, including some basic statistical analysis and visualizations."
      ],
      "metadata": {
        "id": "BfNQWuBp0JPl"
      }
    },
    {
      "cell_type": "markdown",
      "source": [
        "# **Task 2: Implement the models**"
      ],
      "metadata": {
        "id": "MJJ_68OVSe38"
      }
    },
    {
      "cell_type": "code",
      "source": [
        "class LogisticRegression:\n",
        "    def __init__(self, learning_rate=0.01, num_epochs=1000):\n",
        "        self.learning_rate = learning_rate\n",
        "        self.num_epochs = num_epochs\n",
        "        self.weights = None\n",
        "        self.classes = None\n",
        "\n",
        "    def softmax(self, z):\n",
        "        exp_z = np.exp(z - np.max(z, axis=1, keepdims=True))\n",
        "        return exp_z / np.sum(exp_z, axis=1, keepdims=True)\n",
        "\n",
        "    def fit(self, X, Y):\n",
        "        num_samples, num_features = X.shape\n",
        "        self.classes = np.unique(Y)\n",
        "        num_classes = len(self.classes)\n",
        "        self.weights = np.zeros((num_features, num_classes))\n",
        "\n",
        "        for epoch in range(self.num_epochs):\n",
        "            # Forward pass\n",
        "            scores = np.dot(X, self.weights)\n",
        "            probabilities = self.softmax(scores)\n",
        "\n",
        "            # Compute gradients\n",
        "            indicator = (Y.reshape(-1, 1) == np.arange(1, num_classes + 1))\n",
        "            dz = probabilities - indicator\n",
        "            dw = np.dot(X.T, dz) / num_samples\n",
        "\n",
        "            # Update parameters\n",
        "            self.weights -= self.learning_rate * dw\n",
        "\n",
        "    def predict(self, X):\n",
        "        scores = np.dot(X, self.weights)\n",
        "        probabilities = self.softmax(scores)\n",
        "        # Shift index to match class labels (1, 2, 3)\n",
        "        predictions = np.argmax(probabilities, axis=1) + 1\n",
        "        return predictions"
      ],
      "metadata": {
        "id": "M6SHKSOXS6QP"
      },
      "execution_count": null,
      "outputs": []
    },
    {
      "cell_type": "code",
      "source": [
        "class MiniBatchLogisticRegression(LogisticRegression):\n",
        "    def __init__(self, learning_rate=0.01, num_epochs=1000, batch_size=32):\n",
        "        self.learning_rate = learning_rate\n",
        "        self.num_epochs = num_epochs\n",
        "        self.batch_size = batch_size\n",
        "        self.weights = None\n",
        "        self.classes = None\n",
        "\n",
        "    def softmax(self, z):\n",
        "        exp_z = np.exp(z - np.max(z, axis=1, keepdims=True))\n",
        "        return exp_z / np.sum(exp_z, axis=1, keepdims=True)\n",
        "\n",
        "    def fit(self, X, Y):\n",
        "        num_samples, num_features = X.shape\n",
        "        self.classes = np.unique(Y)\n",
        "        num_classes = len(self.classes)\n",
        "        self.weights = np.zeros((num_features, num_classes))\n",
        "\n",
        "        for epoch in range(self.num_epochs):\n",
        "            # Shuffle the data\n",
        "            indices = np.arange(num_samples)\n",
        "            np.random.shuffle(indices)\n",
        "            X_shuffled = X[indices]\n",
        "            Y_shuffled = Y[indices]\n",
        "\n",
        "            # Mini-batch training\n",
        "            for i in range(0, num_samples, self.batch_size):\n",
        "                X_batch = X_shuffled[i:i + self.batch_size]\n",
        "                Y_batch = Y_shuffled[i:i + self.batch_size]\n",
        "\n",
        "                # Forward pass\n",
        "                scores = np.dot(X_batch, self.weights)\n",
        "                probabilities = self.softmax(scores)\n",
        "\n",
        "                # Compute gradients\n",
        "                indicator = (Y_batch.reshape(-1, 1) == np.arange(1, num_classes + 1))\n",
        "                dz = probabilities - indicator\n",
        "                dw = np.dot(X_batch.T, dz) / self.batch_size\n",
        "\n",
        "                # Update parameters\n",
        "                self.weights -= self.learning_rate * dw\n",
        "\n",
        "    def predict(self, X):\n",
        "        scores = np.dot(X, self.weights)\n",
        "        probabilities = self.softmax(scores)\n",
        "\n",
        "        # Shift index to match class labels (1, 2, 3)\n",
        "        predictions = np.argmax(probabilities, axis=1) + 1\n",
        "        return predictions"
      ],
      "metadata": {
        "id": "L_MtRGwjS_sz"
      },
      "execution_count": null,
      "outputs": []
    },
    {
      "cell_type": "code",
      "source": [
        "# Extract features and target\n",
        "X = wine.drop('class', axis=1).values\n",
        "y = wine['class'].values"
      ],
      "metadata": {
        "id": "B3d0mC1zS7dP"
      },
      "execution_count": null,
      "outputs": []
    },
    {
      "cell_type": "code",
      "source": [
        "base_regr = LogisticRegression()\n",
        "base_regr.fit(X, y)"
      ],
      "metadata": {
        "id": "wepdFHW3dPPe"
      },
      "execution_count": null,
      "outputs": []
    },
    {
      "cell_type": "code",
      "source": [
        "print(\"The weights are: \\n\", base_regr.weights)\n",
        "print(\"\\n\")"
      ],
      "metadata": {
        "colab": {
          "base_uri": "https://localhost:8080/"
        },
        "id": "NKFFDzNncu_t",
        "outputId": "40b37edd-d160-40b0-e81e-a23b17eb1900"
      },
      "execution_count": null,
      "outputs": [
        {
          "output_type": "stream",
          "name": "stdout",
          "text": [
            "The weights are: \n",
            " [[ -4.15494566   2.65091434   1.50403132]\n",
            " [ -1.2392976   -1.23689932   2.47619692]\n",
            " [ -0.76627279   0.4190022    0.34727059]\n",
            " [-11.04748556   6.38521088   4.66227469]\n",
            " [-24.14618311  18.10355757   6.04262554]\n",
            " [ -0.06079502   1.2403941   -1.17959908]\n",
            " [  0.78956087   1.82485045  -2.61441132]\n",
            " [ -0.261843     0.0629644    0.1988786 ]\n",
            " [ -0.10736607   1.00578785  -0.89842178]\n",
            " [ -2.08527163  -4.65190448   6.73717611]\n",
            " [ -0.20715175   0.81320899  -0.60605723]\n",
            " [ -0.05804638   2.0690896   -2.01104323]\n",
            " [  4.1486362   -1.33442503  -2.81421117]]\n",
            "\n",
            "\n"
          ]
        }
      ]
    },
    {
      "cell_type": "code",
      "source": [
        "base_minibatch_regr = MiniBatchLogisticRegression()\n",
        "base_minibatch_regr.fit(X, y)"
      ],
      "metadata": {
        "id": "QJYCNqafeGfj"
      },
      "execution_count": null,
      "outputs": []
    },
    {
      "cell_type": "code",
      "source": [
        "print(\"The weights are: \\n\", base_minibatch_regr.weights)\n",
        "print(\"\\n\")"
      ],
      "metadata": {
        "id": "kppwWGYmeGib",
        "colab": {
          "base_uri": "https://localhost:8080/"
        },
        "outputId": "e43313e7-583b-4503-ff94-19a7fdfaa155"
      },
      "execution_count": null,
      "outputs": [
        {
          "output_type": "stream",
          "name": "stdout",
          "text": [
            "The weights are: \n",
            " [[-9.16880185e+00  4.79661604e+00  4.37218581e+00]\n",
            " [-3.12729842e+00 -8.86646292e+00  1.19937613e+01]\n",
            " [-1.56554594e+00  4.13436384e-01  1.15210956e+00]\n",
            " [-3.27147324e+01  1.57935671e+01  1.69211653e+01]\n",
            " [-2.68077942e+01  1.97664207e+01  7.04137348e+00]\n",
            " [ 1.20200819e+00  5.29458094e+00 -6.49658913e+00]\n",
            " [ 4.67878886e+00  8.89281134e+00 -1.35716002e+01]\n",
            " [-8.42091935e-01 -9.29310160e-03  8.51385037e-01]\n",
            " [ 6.77149215e-01  4.32887597e+00 -5.00602518e+00]\n",
            " [-6.25164747e+00 -2.72836764e+01  3.35353238e+01]\n",
            " [-2.78559757e-01  3.62648852e+00 -3.34792876e+00]\n",
            " [ 1.60558561e+00  9.38540672e+00 -1.09909923e+01]\n",
            " [ 4.68289470e+00 -3.62491102e+00 -1.05798368e+00]]\n",
            "\n",
            "\n"
          ]
        }
      ]
    },
    {
      "cell_type": "markdown",
      "source": [
        "# **Task 3: Run Experiments**"
      ],
      "metadata": {
        "id": "5Fpo-mzGfe1g"
      }
    },
    {
      "cell_type": "markdown",
      "source": [
        "### The calculate_metrics function to calculate metrics will be used:"
      ],
      "metadata": {
        "id": "-lwixeYnRqaH"
      }
    },
    {
      "cell_type": "code",
      "source": [
        "def calculate_metrics(y_true, y_pred):\n",
        "    # Convert class labels to numpy arrays\n",
        "    y_true = np.array(y_true)\n",
        "    y_pred = np.array(y_pred)\n",
        "\n",
        "    # Get unique class labels\n",
        "    unique_labels = np.unique(np.concatenate([y_true, y_pred]))\n",
        "\n",
        "    # Initialize metrics\n",
        "    accuracy = 0.0\n",
        "    precision = np.zeros(len(unique_labels))\n",
        "    recall = np.zeros(len(unique_labels))\n",
        "    f1_score = np.zeros(len(unique_labels))\n",
        "\n",
        "    for label in unique_labels:\n",
        "        # True positives\n",
        "        tp = np.sum((y_true == label) & (y_pred == label))\n",
        "\n",
        "        # False positives\n",
        "        fp = np.sum((y_true != label) & (y_pred == label))\n",
        "\n",
        "        # False negatives\n",
        "        fn = np.sum((y_true == label) & (y_pred != label))\n",
        "\n",
        "        # True negatives\n",
        "        tn = np.sum((y_true != label) & (y_pred != label))\n",
        "\n",
        "        # Calculate metrics\n",
        "        accuracy += (tp + tn) / len(y_true)\n",
        "        precision[label-1] = tp / (tp + fp) if (tp + fp) > 0 else 0\n",
        "        recall[label-1] = tp / (tp + fn) if (tp + fn) > 0 else 0\n",
        "        f1_score[label-1] = 2 * (precision[label-1] * recall[label-1]) / (precision[label-1] + recall[label-1]) if (precision[label-1] + recall[label-1]) > 0 else 0\n",
        "\n",
        "    # Average accuracy and metrics over all classes\n",
        "    accuracy /= len(unique_labels)\n",
        "    precision_avg = np.mean(precision)\n",
        "    recall_avg = np.mean(recall)\n",
        "    f1_score_avg = np.mean(f1_score)\n",
        "\n",
        "    return {\n",
        "        'accuracy': accuracy,\n",
        "        'precision': precision_avg,\n",
        "        'recall': recall_avg,\n",
        "        'f1_score': f1_score_avg\n",
        "    }"
      ],
      "metadata": {
        "id": "BoRn8aB_JrJy"
      },
      "execution_count": null,
      "outputs": []
    },
    {
      "cell_type": "markdown",
      "source": [
        "## 1. Perform an 80/20 train/test split and report the performance metrics on both the training set and test set for each model."
      ],
      "metadata": {
        "id": "sUgCrcuHtcos"
      }
    },
    {
      "cell_type": "code",
      "source": [
        "X = wine.drop('class', axis=1).values\n",
        "y = wine['class'].values\n",
        "\n",
        "np.random.seed(40)\n",
        "\n",
        "# shuffle the indices\n",
        "indices = np.arange(len(X))\n",
        "np.random.shuffle(indices)\n",
        "\n",
        "# calculate the split point for 80/20 ratio\n",
        "split_point = int(0.8 * len(X))\n",
        "\n",
        "# Split the data\n",
        "X_train, X_test = X[indices[:split_point]], X[indices[split_point:]]\n",
        "y_train, y_test = y[indices[:split_point]], y[indices[split_point:]]"
      ],
      "metadata": {
        "id": "Cnd4R7YQY28l"
      },
      "execution_count": null,
      "outputs": []
    },
    {
      "cell_type": "code",
      "source": [
        "# train logistic regression\n",
        "log_reg = LogisticRegression()\n",
        "log_reg.fit(X_train, y_train)\n",
        "\n",
        "train_predictions = log_reg.predict(X_train)\n",
        "test_predictions = log_reg.predict(X_test)"
      ],
      "metadata": {
        "id": "DuMSfXmKgzq4"
      },
      "execution_count": null,
      "outputs": []
    },
    {
      "cell_type": "code",
      "source": [
        "# calculate metrics for logistic regression\n",
        "base_train_metrics = calculate_metrics(y_train, train_predictions)\n",
        "base_test_metrics = calculate_metrics(y_test, test_predictions)\n",
        "\n",
        "print(\"Logistic Regression Metrics:\\n\")\n",
        "print(\"Metrics on train dataset:\\n\")\n",
        "print(f\"Accuracy: {base_train_metrics['accuracy']}\")\n",
        "print(f\"Precision: {base_train_metrics['precision']}\")\n",
        "print(f\"Recall: {base_train_metrics['recall']}\")\n",
        "print(f\"F1 Score: {base_train_metrics['f1_score']}\")\n",
        "print(\"---------------------------\\n\")\n",
        "print(\"Metrics on test dataset:\\n\")\n",
        "print(f\"Accuracy: {base_test_metrics['accuracy']}\")\n",
        "print(f\"Precision: {base_test_metrics['precision']}\")\n",
        "print(f\"Recall: {base_test_metrics['recall']}\")\n",
        "print(f\"F1 Score: {base_test_metrics['f1_score']}\")"
      ],
      "metadata": {
        "id": "zO6OMXU6VHK8",
        "colab": {
          "base_uri": "https://localhost:8080/"
        },
        "outputId": "5009b835-3dfb-466a-edef-eec5e05be038"
      },
      "execution_count": null,
      "outputs": [
        {
          "output_type": "stream",
          "name": "stdout",
          "text": [
            "Logistic Regression Metrics:\n",
            "\n",
            "Metrics on train dataset:\n",
            "\n",
            "Accuracy: 0.6995305164319249\n",
            "Precision: 0.6776025671312702\n",
            "Recall: 0.6020147820826428\n",
            "F1 Score: 0.5164200581257751\n",
            "---------------------------\n",
            "\n",
            "Metrics on test dataset:\n",
            "\n",
            "Accuracy: 0.7407407407407408\n",
            "Precision: 0.7169590643274854\n",
            "Recall: 0.6179487179487179\n",
            "F1 Score: 0.5463888888888889\n"
          ]
        }
      ]
    },
    {
      "cell_type": "code",
      "source": [
        "# train logistic regression\n",
        "base_minibatch_reg = MiniBatchLogisticRegression()\n",
        "base_minibatch_reg.fit(X_train, y_train)\n",
        "\n",
        "train_predictions = base_minibatch_reg.predict(X_train)\n",
        "test_predictions = base_minibatch_reg.predict(X_test)"
      ],
      "metadata": {
        "id": "2EmZWNq4AGhu"
      },
      "execution_count": null,
      "outputs": []
    },
    {
      "cell_type": "code",
      "source": [
        "# calculate metrics for logistic regression\n",
        "base_train_metrics = calculate_metrics(y_train, train_predictions)\n",
        "base_test_metrics = calculate_metrics(y_test, test_predictions)\n",
        "\n",
        "print(\"Mini-Batch SGD Metrics:\\n\")\n",
        "print(\"Metrics on train dataset:\\n\")\n",
        "print(f\"Accuracy: {base_train_metrics['accuracy']}\")\n",
        "print(f\"Precision: {base_train_metrics['precision']}\")\n",
        "print(f\"Recall: {base_train_metrics['recall']}\")\n",
        "print(f\"F1 Score: {base_train_metrics['f1_score']}\")\n",
        "print(\"---------------------------\\n\")\n",
        "print(\"Metrics on test dataset:\\n\")\n",
        "print(f\"Accuracy: {base_test_metrics['accuracy']}\")\n",
        "print(f\"Precision: {base_test_metrics['precision']}\")\n",
        "print(f\"Recall: {base_test_metrics['recall']}\")\n",
        "print(f\"F1 Score: {base_test_metrics['f1_score']}\")"
      ],
      "metadata": {
        "colab": {
          "base_uri": "https://localhost:8080/"
        },
        "id": "EqjV5HW4AHCL",
        "outputId": "20aad7e5-5475-43c4-f51b-5965c26fa958"
      },
      "execution_count": null,
      "outputs": [
        {
          "output_type": "stream",
          "name": "stdout",
          "text": [
            "Mini-Batch SGD Metrics:\n",
            "\n",
            "Metrics on train dataset:\n",
            "\n",
            "Accuracy: 0.755868544600939\n",
            "Precision: 0.4224960254372019\n",
            "Recall: 0.5817091454272864\n",
            "F1 Score: 0.4888357256778309\n",
            "---------------------------\n",
            "\n",
            "Metrics on test dataset:\n",
            "\n",
            "Accuracy: 0.7222222222222222\n",
            "Precision: 0.40277777777777773\n",
            "Recall: 0.5384615384615384\n",
            "F1 Score: 0.4475675675675676\n"
          ]
        }
      ]
    },
    {
      "cell_type": "markdown",
      "source": [
        "## 2. Use a 5-fold cross-validation technique and report the performance metrics on both the training set and test set for each model.##"
      ],
      "metadata": {
        "id": "l2MSSOEQVKTD"
      }
    },
    {
      "cell_type": "code",
      "source": [
        "X = wine.drop('class', axis=1).values\n",
        "y = wine['class'].values\n",
        "\n",
        "np.random.seed(40)\n",
        "\n",
        "# shuffle the indices\n",
        "indices = np.arange(len(X))\n",
        "np.random.shuffle(indices)\n",
        "\n",
        "# shuffle the data\n",
        "X = X[indices]\n",
        "y = y[indices]"
      ],
      "metadata": {
        "id": "R9mOFSYCrHg9"
      },
      "execution_count": null,
      "outputs": []
    },
    {
      "cell_type": "code",
      "source": [
        "fold_size = len(X)//5\n",
        "\n",
        "fold_metrics_list = []\n",
        "\n",
        "# perform k-fold cross-validation for Logistic Regression\n",
        "log_reg = LogisticRegression()\n",
        "\n",
        "for i in range(5):\n",
        "    start, end = i * fold_size, (i + 1) * fold_size\n",
        "    X_test_fold, y_test_fold = X[start:end], y[start:end]\n",
        "    X_train_fold, y_train_fold = np.concatenate([X[:start], X[end:]]), np.concatenate([y[:start], y[end:]])\n",
        "\n",
        "    # train the model\n",
        "    log_reg.fit(X_train_fold, y_train_fold)\n",
        "\n",
        "    # make predictions on both sets\n",
        "    log_train_prediction = log_reg.predict(X_train_fold)\n",
        "    log_test_prediction = log_reg.predict(X_test_fold)\n",
        "\n",
        "    # calculate metrics\n",
        "    fold_train_metrics = calculate_metrics(y_train_fold, log_train_prediction)\n",
        "    fold_test_metrics = calculate_metrics(y_test_fold, log_test_prediction)\n",
        "\n",
        "    fold_metrics_list.append({\n",
        "        'fold': i + 1,\n",
        "        'train_accuracy': fold_train_metrics['accuracy'],\n",
        "        'train_precision': fold_train_metrics['precision'],\n",
        "        'train_recall': fold_train_metrics['recall'],\n",
        "        'train_f1_score': fold_train_metrics['f1_score'],\n",
        "        'test_accuracy': fold_test_metrics['accuracy'],\n",
        "        'test_precision': fold_test_metrics['precision'],\n",
        "        'test_recall': fold_test_metrics['recall'],\n",
        "        'test_f1_score': fold_test_metrics['f1_score']})\n",
        "\n",
        "metrics_3_2 = pd.DataFrame(fold_metrics_list)"
      ],
      "metadata": {
        "id": "y-2S07ksg9kv"
      },
      "execution_count": null,
      "outputs": []
    },
    {
      "cell_type": "code",
      "source": [
        "# print the results\n",
        "print(\"Logistic Regression Cross-Validation Metrics:\")\n",
        "print(metrics_3_2)"
      ],
      "metadata": {
        "colab": {
          "base_uri": "https://localhost:8080/"
        },
        "id": "PmEDMpz1m-AA",
        "outputId": "dba7b3b0-8449-4138-ec8d-3fcb63199a57"
      },
      "execution_count": null,
      "outputs": [
        {
          "output_type": "stream",
          "name": "stdout",
          "text": [
            "Logistic Regression Cross-Validation Metrics:\n",
            "   fold  train_accuracy  train_precision  train_recall  train_f1_score  \\\n",
            "0     1        0.776224         0.484574      0.586170        0.518981   \n",
            "1     2        0.794872         0.758256      0.709659        0.678281   \n",
            "2     3        0.748252         0.747755      0.675255        0.602462   \n",
            "3     4        0.776224         0.473658      0.595656        0.519710   \n",
            "4     5        0.724942         0.772564      0.643562        0.548452   \n",
            "\n",
            "   test_accuracy  test_precision  test_recall  test_f1_score  \n",
            "0       0.771429        0.492754     0.666667       0.549020  \n",
            "1       0.733333        0.634632     0.623810       0.600547  \n",
            "2       0.676190        0.414141     0.571429       0.433333  \n",
            "3       0.771429        0.512821     0.633333       0.549123  \n",
            "4       0.752381        0.755735     0.673280       0.601457  \n"
          ]
        }
      ]
    },
    {
      "cell_type": "markdown",
      "source": [
        "## 3. Sample growing subsets of the training data (20%,30%,...80%). Observe and explain how does size of training data affects the performance for both models. Plot two curves as a function of training size, one for performance in train and one for test."
      ],
      "metadata": {
        "id": "nLNCGkx7XfA_"
      }
    },
    {
      "cell_type": "code",
      "source": [
        "X = wine.drop('class', axis=1).values\n",
        "y = wine['class'].values\n",
        "\n",
        "np.random.seed(40)\n",
        "\n",
        "# shuffle the indices\n",
        "indices = np.arange(len(X))\n",
        "np.random.shuffle(indices)\n",
        "\n",
        "# calculate the split point for 80/20 ratio\n",
        "split_point = int(0.8 * len(X))\n",
        "\n",
        "# Split the data\n",
        "X_train, X_test = X[indices[:split_point]], X[indices[split_point:]]\n",
        "y_train, y_test = y[indices[:split_point]], y[indices[split_point:]]"
      ],
      "metadata": {
        "id": "7hlfNh4Dc2Q3"
      },
      "execution_count": null,
      "outputs": []
    },
    {
      "cell_type": "code",
      "source": [
        "dataset_metrics_list = []\n",
        "\n",
        "# create models\n",
        "log_reg = LogisticRegression()\n",
        "\n",
        "# evaluate with growing data for logistic regression\n",
        "for train_size in np.arange(0.2, 0.91, 0.05):\n",
        "    split_index = int(train_size * len(X))\n",
        "    X_train_i = X_train[:split_index]\n",
        "    y_train_i = y_train[:split_index]\n",
        "\n",
        "    # train the model\n",
        "    log_reg.fit(X_train_i, y_train_i)\n",
        "\n",
        "    # make predictions on both training and test sets\n",
        "    dataset_train_prediction = log_reg.predict(X_train_i)\n",
        "    dataset_test_prediction = log_reg.predict(X_test)\n",
        "\n",
        "    # calculate metrics\n",
        "    dataset_train_metrics = calculate_metrics(y_train_i, dataset_train_prediction)\n",
        "    dataset_test_metrics = calculate_metrics(y_test, dataset_test_prediction)\n",
        "\n",
        "    dataset_metrics_list.append({\n",
        "        'train_data_size': str(round(train_size*100))+\"%\",\n",
        "        'train_accuracy': dataset_train_metrics['accuracy'],\n",
        "        'train_precision': dataset_train_metrics['precision'],\n",
        "        'train_recall': dataset_train_metrics['recall'],\n",
        "        'train_f1_score': dataset_train_metrics['f1_score'],\n",
        "        'test_accuracy': dataset_test_metrics['accuracy'],\n",
        "        'test_precision': dataset_test_metrics['precision'],\n",
        "        'test_recall': dataset_test_metrics['recall'],\n",
        "        'test_f1_score': dataset_test_metrics['f1_score']})\n",
        "\n",
        "metrics_3_3 = pd.DataFrame(dataset_metrics_list)"
      ],
      "metadata": {
        "id": "TkDjZihPkzuK"
      },
      "execution_count": null,
      "outputs": []
    },
    {
      "cell_type": "code",
      "source": [
        "print(\"The value of train_data_size represents the percentage of training set, which has been splitted by 80/20 train/test.\\n\")\n",
        "print(metrics_3_3)"
      ],
      "metadata": {
        "colab": {
          "base_uri": "https://localhost:8080/"
        },
        "id": "ry-NsQoFy9hT",
        "outputId": "10943c63-94f8-427c-97c7-9b5847e0b8b6"
      },
      "execution_count": null,
      "outputs": [
        {
          "output_type": "stream",
          "name": "stdout",
          "text": [
            "The value of train_data_size represents the percentage of training set, which has been splitted by 80/20 train/test.\n",
            "\n",
            "   train_data_size  train_accuracy  train_precision  train_recall  \\\n",
            "0              20%        0.771429         0.500000      0.638889   \n",
            "1              25%        0.742424         0.504762      0.583333   \n",
            "2              30%        0.735849         0.453829      0.626901   \n",
            "3              35%        0.720430         0.787683      0.643938   \n",
            "4              40%        0.784038         0.469231      0.614693   \n",
            "5              45%        0.808333         0.520000      0.629630   \n",
            "6              50%        0.803030         0.517709      0.632184   \n",
            "7              55%        0.786942         0.519048      0.606061   \n",
            "8              60%        0.773585         0.479303      0.595238   \n",
            "9              65%        0.704348         0.649709      0.579047   \n",
            "10             70%        0.715054         0.694024      0.616162   \n",
            "11             75%        0.704261         0.403323      0.522013   \n",
            "12             80%        0.699531         0.677603      0.602015   \n",
            "13             85%        0.699531         0.677603      0.602015   \n",
            "14             90%        0.699531         0.677603      0.602015   \n",
            "\n",
            "    train_f1_score  test_accuracy  test_precision  test_recall  test_f1_score  \n",
            "0         0.541063       0.722222        0.466667     0.615385       0.496032  \n",
            "1         0.512129       0.703704        0.461538     0.589744       0.475040  \n",
            "2         0.515361       0.759259        0.441270     0.589744       0.501401  \n",
            "3         0.534004       0.740741        0.750000     0.633333       0.533333  \n",
            "4         0.528958       0.759259        0.425000     0.589744       0.492511  \n",
            "5         0.557692       0.759259        0.455964     0.589744       0.504274  \n",
            "6         0.556946       0.759259        0.455964     0.589744       0.504274  \n",
            "7         0.538532       0.777778        0.506667     0.615385       0.533626  \n",
            "8         0.519632       0.759259        0.441270     0.589744       0.501401  \n",
            "9         0.512514       0.703704        0.673254     0.551282       0.488360  \n",
            "10        0.538719       0.740741        0.716959     0.617949       0.546389  \n",
            "11        0.428452       0.685185        0.435140     0.487179       0.406349  \n",
            "12        0.516420       0.740741        0.716959     0.617949       0.546389  \n",
            "13        0.516420       0.740741        0.716959     0.617949       0.546389  \n",
            "14        0.516420       0.740741        0.716959     0.617949       0.546389  \n"
          ]
        }
      ]
    },
    {
      "cell_type": "code",
      "source": [
        "# plot the results\n",
        "plt.plot(np.arange(0.2, 0.91, 0.05), metrics_3_3[\"train_accuracy\"], linestyle='-', label='Train Accuracy')\n",
        "plt.plot(np.arange(0.2, 0.91, 0.05), metrics_3_3[\"test_accuracy\"], linestyle='-', label='Test Accuracy')\n",
        "\n",
        "plt.title('Train & Test Performance with Different Training Dataset Sizes')\n",
        "plt.xlabel('Training Dataset Size')\n",
        "plt.ylabel('Accuracy')\n",
        "plt.legend()\n",
        "\n",
        "plt.show()"
      ],
      "metadata": {
        "colab": {
          "base_uri": "https://localhost:8080/",
          "height": 472
        },
        "id": "UNz4UCNpWlJ4",
        "outputId": "93fdb52a-cfc6-4456-b1e9-8b986153e5d9"
      },
      "execution_count": null,
      "outputs": [
        {
          "output_type": "display_data",
          "data": {
            "text/plain": [
              "<Figure size 640x480 with 1 Axes>"
            ],
            "image/png": "[encoded data removed]"
          },
          "metadata": {}
        }
      ]
    },
    {
      "cell_type": "markdown",
      "source": [
        "## 4. Try out growing minibatch sizes, e.g., 8, 16, 32, 64, and 128. Compare the convergence speed and final performance of different batch sizes to the fully batched baseline."
      ],
      "metadata": {
        "id": "uxBDz6_eYs4c"
      }
    },
    {
      "cell_type": "code",
      "source": [
        "X = wine.drop('class', axis=1).values\n",
        "y = wine['class'].values\n",
        "\n",
        "np.random.seed(40)\n",
        "\n",
        "# shuffle the indices\n",
        "indices = np.arange(len(X))\n",
        "np.random.shuffle(indices)\n",
        "\n",
        "# calculate the split point for 80/20 ratio\n",
        "split_point = int(0.8 * len(X))\n",
        "\n",
        "# Split the data\n",
        "X_train, X_test = X[indices[:split_point]], X[indices[split_point:]]\n",
        "y_train, y_test = y[indices[:split_point]], y[indices[split_point:]]"
      ],
      "metadata": {
        "id": "Hhh0Es2QdNTp"
      },
      "execution_count": null,
      "outputs": []
    },
    {
      "cell_type": "code",
      "source": [
        "batch_metrics_list = []\n",
        "\n",
        "# train and evaluate with growing mini-batch sizes\n",
        "batch_sizes=[8, 16, 32, 64, 128]\n",
        "\n",
        "for i in range(len(batch_sizes)):\n",
        "    # create a new instance of the model for each batch size\n",
        "    mini_batch_log_reg = MiniBatchLogisticRegression(batch_size=batch_sizes[i])\n",
        "\n",
        "    # train the model\n",
        "    mini_batch_log_reg.fit(X_train, y_train)\n",
        "\n",
        "    # make predictions on both training and test sets\n",
        "    batch_train_prediction = mini_batch_log_reg.predict(X_train)\n",
        "    batch_test_prediction = mini_batch_log_reg.predict(X_test)\n",
        "\n",
        "    # calculate metrics\n",
        "    batch_train_metrics = calculate_metrics(y_train, batch_train_prediction)\n",
        "    batch_test_metrics = calculate_metrics(y_test, batch_test_prediction)\n",
        "\n",
        "    batch_metrics_list.append({\n",
        "        'batch_size': batch_sizes[i],\n",
        "        'train_accuracy': batch_train_metrics['accuracy'],\n",
        "        'train_precision': batch_train_metrics['precision'],\n",
        "        'train_recall': batch_train_metrics['recall'],\n",
        "        'train_f1_score': batch_train_metrics['f1_score'],\n",
        "        'test_accuracy': batch_test_metrics['accuracy'],\n",
        "        'test_precision': batch_test_metrics['precision'],\n",
        "        'test_recall': batch_test_metrics['recall'],\n",
        "        'test_f1_score': batch_test_metrics['f1_score']})\n",
        "\n",
        "    #print(mini_batch_log_reg.weights)\n",
        "metrics_3_4 = pd.DataFrame(batch_metrics_list)"
      ],
      "metadata": {
        "id": "uVTjijIQuAey"
      },
      "execution_count": null,
      "outputs": []
    },
    {
      "cell_type": "code",
      "source": [
        "print(metrics_3_4)"
      ],
      "metadata": {
        "id": "ziD34qzbe77G",
        "colab": {
          "base_uri": "https://localhost:8080/"
        },
        "outputId": "433a3cfd-8e9d-4fc1-dcb0-e37603af4d95"
      },
      "execution_count": null,
      "outputs": [
        {
          "output_type": "stream",
          "name": "stdout",
          "text": [
            "   batch_size  train_accuracy  train_precision  train_recall  train_f1_score  \\\n",
            "0           8        0.765258         0.431902      0.594703        0.499734   \n",
            "1          16        0.685446         0.787302      0.593953        0.503571   \n",
            "2          32        0.826291         0.748511      0.746587        0.734033   \n",
            "3          64        0.746479         0.723211      0.595886        0.555147   \n",
            "4         128        0.765258         0.660437      0.652200        0.633830   \n",
            "\n",
            "   test_accuracy  test_precision  test_recall  test_f1_score  \n",
            "0       0.740741        0.756313     0.571795       0.517063  \n",
            "1       0.740741        0.805556     0.641026       0.574822  \n",
            "2       0.777778        0.759834     0.653846       0.647345  \n",
            "3       0.722222        0.779541     0.553846       0.527778  \n",
            "4       0.759259        0.696342     0.620513       0.607407  \n"
          ]
        }
      ]
    },
    {
      "cell_type": "code",
      "source": [
        "# plot the results\n",
        "plt.plot(batch_sizes, metrics_3_4[\"train_accuracy\"],  linestyle='-', label='Train Accuracy')\n",
        "plt.plot(batch_sizes, metrics_3_4[\"test_accuracy\"], linestyle='-', label='Test Accuracy')\n",
        "\n",
        "plt.title('Train & Test Performance with Different Batch Sizes')\n",
        "plt.xlabel('Batch Size')\n",
        "plt.ylabel('Accuracy')\n",
        "plt.legend()\n",
        "\n",
        "plt.show()"
      ],
      "metadata": {
        "id": "mkOt97LRdWCI",
        "colab": {
          "base_uri": "https://localhost:8080/",
          "height": 472
        },
        "outputId": "9a15a78a-0823-45e8-b325-81e731292a96"
      },
      "execution_count": null,
      "outputs": [
        {
          "output_type": "display_data",
          "data": {
            "text/plain": [
              "<Figure size 640x480 with 1 Axes>"
            ],
            "image/png": "[encoded data removed]"
          },
          "metadata": {}
        }
      ]
    },
    {
      "cell_type": "markdown",
      "source": [
        "## 5. Present the performance of logistic regression with at least three different learning rates.\n"
      ],
      "metadata": {
        "id": "PmtlJ5FwTDKK"
      }
    },
    {
      "cell_type": "code",
      "source": [
        "X = wine.drop('class', axis=1).values\n",
        "y = wine['class'].values\n",
        "\n",
        "np.random.seed(40)\n",
        "\n",
        "# shuffle the indices\n",
        "indices = np.arange(len(X))\n",
        "np.random.shuffle(indices)\n",
        "\n",
        "# calculate the split point for 80/20 ratio\n",
        "split_point = int(0.8 * len(X))\n",
        "\n",
        "# Split the data\n",
        "X_train, X_test = X[indices[:split_point]], X[indices[split_point:]]\n",
        "y_train, y_test = y[indices[:split_point]], y[indices[split_point:]]"
      ],
      "metadata": {
        "id": "BVgG0LA_TRej"
      },
      "execution_count": null,
      "outputs": []
    },
    {
      "cell_type": "code",
      "source": [
        "# train and evaluate models with different learning rates\n",
        "learning_rates = [0.1, 0.05, 0.02, 0.01, 0.002, 0.001, 0.0001, 0.00001]\n",
        "\n",
        "learn_metrics_list = []\n",
        "\n",
        "for i in range(len(learning_rates)):\n",
        "    model = LogisticRegression(learning_rate=learning_rates[i])\n",
        "\n",
        "    # train the model\n",
        "    model.fit(X_train, y_train)\n",
        "\n",
        "    # make predictions on both training and test sets\n",
        "    learn_train_predictions = model.predict(X_train)\n",
        "    learn_test_predictions = model.predict(X_test)\n",
        "\n",
        "    # calculate metrics\n",
        "    learn_train_metrics = calculate_metrics(y_train, learn_train_predictions)\n",
        "    learn_test_metrics = calculate_metrics(y_test, learn_test_predictions)\n",
        "\n",
        "    learn_metrics_list.append({\n",
        "        'learning_rate': learning_rates[i],\n",
        "        'train_accuracy': learn_train_metrics['accuracy'],\n",
        "        'train_precision': learn_train_metrics['precision'],\n",
        "        'train_recall': learn_train_metrics['recall'],\n",
        "        'train_f1_score': learn_train_metrics['f1_score'],\n",
        "        'test_accuracy': learn_test_metrics['accuracy'],\n",
        "        'test_precision': learn_test_metrics['precision'],\n",
        "        'test_recall': learn_test_metrics['recall'],\n",
        "        'test_f1_score': learn_test_metrics['f1_score']})\n",
        "\n",
        "\n",
        "metrics_3_5 = pd.DataFrame(learn_metrics_list)"
      ],
      "metadata": {
        "id": "35xFji2yu9OI"
      },
      "execution_count": null,
      "outputs": []
    },
    {
      "cell_type": "code",
      "source": [
        "print(metrics_3_5)"
      ],
      "metadata": {
        "colab": {
          "base_uri": "https://localhost:8080/"
        },
        "id": "r-ELqdZyUDq1",
        "outputId": "5d9c1421-c2f3-423a-ca51-8e892fbe2fc3"
      },
      "execution_count": null,
      "outputs": [
        {
          "output_type": "stream",
          "name": "stdout",
          "text": [
            "   learning_rate  train_accuracy  train_precision  train_recall  \\\n",
            "0        0.10000        0.769953         0.458855      0.592954   \n",
            "1        0.05000        0.779343         0.490878      0.604448   \n",
            "2        0.02000        0.774648         0.493762      0.597201   \n",
            "3        0.01000        0.699531         0.677603      0.602015   \n",
            "4        0.00200        0.708920         0.685577      0.613509   \n",
            "5        0.00100        0.704225         0.725490      0.610787   \n",
            "6        0.00010        0.779343         0.485931      0.604448   \n",
            "7        0.00001        0.788732         0.700533      0.638615   \n",
            "\n",
            "   train_f1_score  test_accuracy  test_precision  test_recall  test_f1_score  \n",
            "0        0.512095       0.740741        0.407407     0.564103       0.473118  \n",
            "1        0.529927       0.759259        0.441270     0.589744       0.501401  \n",
            "2        0.525989       0.759259        0.441270     0.589744       0.501401  \n",
            "3        0.516420       0.740741        0.716959     0.617949       0.546389  \n",
            "4        0.535485       0.722222        0.692857     0.584615       0.518182  \n",
            "5        0.523014       0.740741        0.716959     0.617949       0.546389  \n",
            "6        0.528205       0.759259        0.441270     0.589744       0.501401  \n",
            "7        0.611944       0.796296        0.708839     0.664103       0.644460  \n"
          ]
        }
      ]
    },
    {
      "cell_type": "code",
      "source": [
        "# plot the results\n",
        "plt.plot(learning_rates, metrics_3_5[\"train_accuracy\"], linestyle='-', label='Train Accuracy')\n",
        "plt.plot(learning_rates, metrics_3_5[\"test_accuracy\"], linestyle='-', label='Test Accuracy')\n",
        "\n",
        "plt.title('Train & Test Performance with Different Learning Rate')\n",
        "plt.xlabel('Learning Rate')\n",
        "plt.ylabel('Accuracy')\n",
        "plt.legend()\n",
        "\n",
        "plt.show()"
      ],
      "metadata": {
        "colab": {
          "base_uri": "https://localhost:8080/",
          "height": 472
        },
        "id": "VcAa7NstUF5Q",
        "outputId": "7040f2f3-6107-4415-ebe9-efda9aac25bf"
      },
      "execution_count": null,
      "outputs": [
        {
          "output_type": "display_data",
          "data": {
            "text/plain": [
              "<Figure size 640x480 with 1 Axes>"
            ],
            "image/png": "[encoded data removed]"
          },
          "metadata": {}
        }
      ]
    },
    {
      "cell_type": "markdown",
      "source": [
        "## 6. Given a variety of parameter configurations, select a performance metric and present the optimal parameter choice for each dataset. Please provide a rationale for your metric selection, along with an explanation of why you opted for that particular metric."
      ],
      "metadata": {
        "id": "kvuVxsZHX27_"
      }
    },
    {
      "cell_type": "code",
      "source": [
        "X = wine.drop('class', axis=1).values\n",
        "y = wine['class'].values\n",
        "\n",
        "np.random.seed(40)\n",
        "\n",
        "# shuffle the indices\n",
        "indices = np.arange(len(X))\n",
        "np.random.shuffle(indices)\n",
        "\n",
        "# calculate the split point for 80/20 ratio\n",
        "split_point = int(0.8 * len(X))\n",
        "\n",
        "# Split the data\n",
        "X_train, X_test = X[indices[:split_point]], X[indices[split_point:]]\n",
        "y_train, y_test = y[indices[:split_point]], y[indices[split_point:]]"
      ],
      "metadata": {
        "id": "CvReQh7aX3JB"
      },
      "execution_count": null,
      "outputs": []
    },
    {
      "cell_type": "code",
      "source": [
        "# create a new instance of the model for each batch size\n",
        "mini_batch_log_reg = MiniBatchLogisticRegression(batch_size=32, learning_rate=0.001)\n",
        "\n",
        "# train the model\n",
        "mini_batch_log_reg.fit(X_train, y_train)\n",
        "\n",
        "# make predictions on both training and test sets\n",
        "y_train_prediction = mini_batch_log_reg.predict(X_train)\n",
        "y_test_prediction = mini_batch_log_reg.predict(X_test)\n"
      ],
      "metadata": {
        "id": "wJXadxBtyEkO"
      },
      "execution_count": null,
      "outputs": []
    },
    {
      "cell_type": "code",
      "source": [
        "# calculate metrics for logistic regression\n",
        "y_train_metrics = calculate_metrics(y_train, y_train_prediction)\n",
        "y_test_metrics = calculate_metrics(y_test, y_test_prediction)\n"
      ],
      "metadata": {
        "id": "PX4nQiYlyIRd"
      },
      "execution_count": null,
      "outputs": []
    },
    {
      "cell_type": "code",
      "source": [
        "y_train_metrics"
      ],
      "metadata": {
        "colab": {
          "base_uri": "https://localhost:8080/"
        },
        "id": "apgq7htezJZb",
        "outputId": "34107734-c2b5-4466-8e8d-e546b1399fdb"
      },
      "execution_count": null,
      "outputs": [
        {
          "output_type": "execute_result",
          "data": {
            "text/plain": [
              "{'accuracy': 0.7793427230046949,\n",
              " 'precision': 0.4728132387706856,\n",
              " 'recall': 0.6059470264867567,\n",
              " 'f1_score': 0.52491601343785}"
            ]
          },
          "metadata": {},
          "execution_count": 155
        }
      ]
    },
    {
      "cell_type": "code",
      "source": [
        "y_test_metrics"
      ],
      "metadata": {
        "colab": {
          "base_uri": "https://localhost:8080/"
        },
        "id": "KRsKuVSWzKv0",
        "outputId": "b401535c-fc90-4986-d48a-a0bb1e6e0dee"
      },
      "execution_count": null,
      "outputs": [
        {
          "output_type": "execute_result",
          "data": {
            "text/plain": [
              "{'accuracy': 0.7777777777777778,\n",
              " 'precision': 0.4444444444444445,\n",
              " 'recall': 0.6153846153846154,\n",
              " 'f1_score': 0.5161290322580645}"
            ]
          },
          "metadata": {},
          "execution_count": 156
        }
      ]
    },
    {
      "cell_type": "markdown",
      "source": [
        "Considering\n",
        "1. **Noise regularization**:\n",
        "A smaller batch size (e.g. 32) introduces more noise in the parameter updates during training. This noise can act as a form of regularization, preventing the model from fitting the training data too closely and improving generalization to unseen data.\n",
        "\n",
        "2. **Learning rate sensitivity**: A learning rate of 0.001 may be appropriate for smaller batch sizes. Larger learning rates may lead to overshooting and cause the optimization process to diverge, while smaller learning rates may lead to slow convergence.\n",
        "\n",
        "\n",
        "3. **Balance between stochastic and deterministic updates**: A batch size of 32 strikes a balance between small batches of random updates and large batches of more deterministic updates. This balance can help the model find a good compromise between exploration and exploitation during training.\n",
        "\n",
        "\n",
        "I chose a mini-batch SGD with batch_size=32 and learning_rate=0.0001, and this seems to be the one that seems to work the best.\n",
        "\n"
      ],
      "metadata": {
        "id": "MUyhzQrC09ym"
      }
    }
  ]
}
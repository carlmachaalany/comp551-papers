{
  "cells": [
    {
      "cell_type": "code",
      "execution_count": null,
      "metadata": {
        "id": "045_S0bmpvoi"
      },
      "outputs": [],
      "source": [
        "import matplotlib.pyplot as plt\n",
        "import tensorflow as tf\n",
        "import numpy as np\n",
        "from tensorflow.keras.utils import to_categorical\n",
        "from keras import datasets, layers, models\n",
        "from keras.applications import ResNet50\n",
        "from keras.models import Model\n",
        "import torch\n",
        "import torch.nn as nn\n",
        "from torchvision import datasets, transforms\n",
        "from tensorflow.keras.datasets import fashion_mnist"
      ]
    },
    {
      "cell_type": "markdown",
      "metadata": {
        "id": "AHzxQKY4oWwt"
      },
      "source": [
        "## **Task 1: Acquire the data**"
      ]
    },
    {
      "cell_type": "markdown",
      "metadata": {
        "id": "UN1NBaBHYXJ0"
      },
      "source": [
        "## Fashion MNIST Data"
      ]
    },
    {
      "cell_type": "code",
      "execution_count": null,
      "metadata": {
        "id": "gfIBS57xYdAQ",
        "colab": {
          "base_uri": "https://localhost:8080/"
        },
        "outputId": "5c6bfc37-9d9c-4c09-da69-f2e3ff09a4fc"
      },
      "outputs": [
        {
          "output_type": "stream",
          "name": "stdout",
          "text": [
            "Downloading data from https://storage.googleapis.com/tensorflow/tf-keras-datasets/train-labels-idx1-ubyte.gz\n",
            "29515/29515 [==============================] - 0s 0us/step\n",
            "Downloading data from https://storage.googleapis.com/tensorflow/tf-keras-datasets/train-images-idx3-ubyte.gz\n",
            "26421880/26421880 [==============================] - 0s 0us/step\n",
            "Downloading data from https://storage.googleapis.com/tensorflow/tf-keras-datasets/t10k-labels-idx1-ubyte.gz\n",
            "5148/5148 [==============================] - 0s 0us/step\n",
            "Downloading data from https://storage.googleapis.com/tensorflow/tf-keras-datasets/t10k-images-idx3-ubyte.gz\n",
            "4422102/4422102 [==============================] - 0s 0us/step\n"
          ]
        }
      ],
      "source": [
        "# Define data transformations\n",
        "transform = transforms.Compose([transforms.ToTensor(), transforms.Normalize((0.5,), (0.5,))])\n",
        "\n",
        "# Load FashionMNIST data\n",
        "(X_train_fashion, y_train_fashion), (X_test_fashion, y_test_fashion) = fashion_mnist.load_data()\n",
        "\n",
        "# Save the unormalized images for future experiments\n",
        "unormalized_X_train_fashion = X_train_fashion\n",
        "unormalized_X_test_fashion = X_test_fashion\n",
        "unormalized_X_train_fashion = unormalized_X_train_fashion.reshape(unormalized_X_train_fashion.shape[0],-1)\n",
        "unormalized_X_test_fashion = unormalized_X_test_fashion.reshape(unormalized_X_test_fashion.shape[0],-1)\n",
        "\n",
        "# Normalize the images\n",
        "X_train_fashion = X_train_fashion.astype('float32') / 255.0\n",
        "X_test_fashion = X_test_fashion.astype('float32') / 255.0\n",
        "\n",
        "# Flatten the images\n",
        "X_train_fashion = X_train_fashion.reshape((-1, 28*28))\n",
        "X_test_fashion = X_test_fashion.reshape((-1, 28*28))\n",
        "\n",
        "# One-hot encode the labels\n",
        "y_train_fashion = to_categorical(y_train_fashion, 10)\n",
        "y_test_fashion = to_categorical(y_test_fashion, 10)"
      ]
    },
    {
      "cell_type": "markdown",
      "metadata": {
        "id": "WEdBlC4pVyRb"
      },
      "source": [
        "## CIFAR-10 DATA"
      ]
    },
    {
      "cell_type": "code",
      "execution_count": null,
      "metadata": {
        "colab": {
          "base_uri": "https://localhost:8080/"
        },
        "id": "NU791-3Zp0Fm",
        "outputId": "7178be66-0329-40cc-8344-ecd4b35a7e86"
      },
      "outputs": [
        {
          "output_type": "stream",
          "name": "stdout",
          "text": [
            "Downloading data from https://www.cs.toronto.edu/~kriz/cifar-10-python.tar.gz\n",
            "170498071/170498071 [==============================] - 2s 0us/step\n"
          ]
        }
      ],
      "source": [
        "# load the CIFAR-10 data, vectorize it\n",
        "(X_train_cifar, y_train_cifar), (X_test_cifar, y_test_cifar) = tf.keras.datasets.cifar10.load_data()\n",
        "\n",
        "unormalized_X_train_cifar = X_train_cifar\n",
        "unormalized_X_test_cifar = X_test_cifar\n",
        "\n",
        "# normalization to [0,1] range\n",
        "X_train_cifar = X_train_cifar / 255.0\n",
        "X_test_cifar = X_test_cifar /255.0\n",
        "\n",
        "## reshape the inputs\n",
        "X_train_cifar = X_train_cifar.reshape(X_train_cifar.shape[0],-1)\n",
        "X_test_cifar = X_test_cifar.reshape(X_test_cifar.shape[0],-1)\n",
        "\n",
        "#reshaping unormalized images\n",
        "unormalized_X_train_cifar = unormalized_X_train_cifar.reshape(unormalized_X_train_cifar.shape[0],-1)\n",
        "unormalized_X_test_cifar = unormalized_X_test_cifar.reshape(unormalized_X_test_cifar.shape[0],-1)\n",
        "y_train_cifar_uncat=y_train_cifar\n",
        "y_train_cifar = to_categorical(y_train_cifar)\n",
        "\n",
        "#flatten\n",
        "y_train_cifar_uncat = y_train_cifar_uncat.flatten()\n",
        "y_test_cifar = y_test_cifar.flatten()"
      ]
    },
    {
      "cell_type": "code",
      "execution_count": null,
      "metadata": {
        "colab": {
          "base_uri": "https://localhost:8080/"
        },
        "id": "FO5nDJMquBX1",
        "outputId": "d9ef8963-3205-46b4-d234-3ea7b153b4b7"
      },
      "outputs": [
        {
          "output_type": "display_data",
          "data": {
            "text/plain": [
              "<Figure size 1000x1000 with 10 Axes>"
            ],
            "image/png": "[encoded data removed]"
          },
          "metadata": {}
        }
      ],
      "source": [
        "class_names = ['airplane', 'automobile', 'bird', 'cat', 'deer', 'dog', 'frog', 'horse', 'ship', 'truck']\n",
        "plt.figure(figsize=(10, 10))\n",
        "list_ = []\n",
        "y = 0\n",
        "\n",
        "#Show unique training images\n",
        "for i in range(36):\n",
        "    label_index = int(y_train_cifar_uncat[i])\n",
        "    if class_names[label_index] not in list_:\n",
        "      plt.subplot(5, 5, y + 1)\n",
        "      plt.xticks([])\n",
        "      plt.yticks([])\n",
        "      plt.grid(False)\n",
        "      plt.imshow(X_train_cifar[i].reshape((32, 32, 3)))\n",
        "      plt.title(class_names[label_index])\n",
        "      list_.append(class_names[label_index])\n",
        "      y += 1\n",
        "plt.show()"
      ]
    },
    {
      "cell_type": "code",
      "execution_count": null,
      "metadata": {
        "colab": {
          "base_uri": "https://localhost:8080/"
        },
        "id": "8qwJvn_muNuU",
        "outputId": "67532931-7947-48f3-8f5b-2704f03a8885"
      },
      "outputs": [
        {
          "output_type": "display_data",
          "data": {
            "text/plain": [
              "<Figure size 1000x500 with 1 Axes>"
            ],
            "image/png": "[encoded data removed]"
          },
          "metadata": {}
        }
      ],
      "source": [
        "#Distribution of training data class\n",
        "targets, frequency = np.unique(y_train_cifar_uncat, return_counts=True)\n",
        "\n",
        "fig=plt.figure(figsize=(10, 5))\n",
        "plt.bar(targets,frequency,color=['tab:blue', 'tab:orange', 'tab:green', 'tab:red','tab:purple','tab:cyan'])\n",
        "plt.title('Distribution of labels in training data')\n",
        "plt.xlabel('Label')\n",
        "plt.ylabel('Amount')\n",
        "\n",
        "for a,b in zip(targets, frequency):\n",
        "    plt.text(a, b, '%d' % b, ha='center', va='bottom',fontsize=10)\n",
        "\n",
        "plt.show()"
      ]
    },
    {
      "cell_type": "code",
      "execution_count": null,
      "metadata": {
        "colab": {
          "base_uri": "https://localhost:8080/"
        },
        "id": "Ijm1xGDgSl8x",
        "outputId": "c625a1e3-30f9-4b1a-d2c2-3a117695cfaa"
      },
      "outputs": [
        {
          "output_type": "display_data",
          "data": {
            "text/plain": [
              "<Figure size 1000x500 with 1 Axes>"
            ],
            "image/png": "[encoded data removed]"
          },
          "metadata": {}
        }
      ],
      "source": [
        "#Distribution of training data class\n",
        "targets, frequency = np.unique(y_test_cifar, return_counts=True)\n",
        "\n",
        "fig=plt.figure(figsize=(10, 5))\n",
        "plt.bar(targets,frequency,color=['tab:blue', 'tab:orange', 'tab:green', 'tab:red','tab:purple','tab:cyan'])\n",
        "plt.title('Distribution of labels in testing data')\n",
        "plt.xlabel('Label')\n",
        "plt.ylabel('Amount')\n",
        "\n",
        "for a,b in zip(targets, frequency):\n",
        "    plt.text(a, b, '%d' % b, ha='center', va='bottom',fontsize=10)\n",
        "\n",
        "plt.show()\n"
      ]
    },
    {
      "cell_type": "markdown",
      "metadata": {
        "id": "2HoSCJFxTUCh"
      },
      "source": [
        "# **2. Implement a Multilayer Perceptron**"
      ]
    },
    {
      "cell_type": "code",
      "execution_count": null,
      "metadata": {
        "id": "qUh4Zr96TTik"
      },
      "outputs": [],
      "source": [
        "class Cost_Cross_Entropy:\n",
        "    def __init__(self, activation_fn):\n",
        "        \"\"\"\n",
        "        Initialize the Cost_Cross_Entropy object.\n",
        "\n",
        "        :param activation_fn: An object representing the activation function,\n",
        "                              must have 'transform' and 'derivative' methods.\n",
        "        \"\"\"\n",
        "        self.activation_fn = activation_fn\n",
        "        self.gamma = None\n",
        "\n",
        "    def __call__(self, y_true, y_pred):\n",
        "        # Implement the cross-entropy calculation here\n",
        "        # Ensure the prediction values are clipped to avoid log(0) error.\n",
        "        y_pred = np.clip(y_pred, 1e-15, 1 - 1e-15)\n",
        "        # Compute the cross-entropy.\n",
        "        loss = -np.mean(np.sum(y_true * np.log(y_pred), axis=1))\n",
        "        return loss\n",
        "\n",
        "    def transform(self, x, gamma=0.01):\n",
        "      self.gamma = gamma\n",
        "      return self.activation_fn.transform(x,gamma = gamma)\n",
        "\n",
        "    def loss(y_true, y_pred):\n",
        "        \"\"\"\n",
        "        Compute the cross-entropy loss.\n",
        "        :param y_true: True labels.\n",
        "        :param y_pred: Predicted labels/probabilities.\n",
        "        :return: Computed loss.\n",
        "        \"\"\"\n",
        "        epsilon=1e-12\n",
        "        y_pred = np.clip(y_pred, epsilon, 1. - epsilon)\n",
        "        N = y_pred.shape[0]\n",
        "        loss = -np.sum(y_true*np.log(y_pred+1e-9))/N\n",
        "        return loss\n",
        "\n",
        "    @staticmethod\n",
        "    def derivative(Y, AL):\n",
        "        \"\"\"\n",
        "        Derivative of the cross-entropy loss.\n",
        "\n",
        "        :param Y: True labels.\n",
        "        :param AL: Predicted labels/probabilities.\n",
        "        :return: The derivative of the loss.\n",
        "        \"\"\"\n",
        "        return AL - Y\n",
        "\n",
        "    def delta(self, y_true, y_pred):\n",
        "        \"\"\"\n",
        "        Compute the delta for backpropagation.\n",
        "\n",
        "        :param y_true: True labels.\n",
        "        :param y_pred: Predicted labels/probabilities.\n",
        "        :return: Computed delta.\n",
        "        \"\"\"\n",
        "        return self.derivative(y_true, y_pred) * self.activation_fn.derivative(y_pred, self.gamma)"
      ]
    },
    {
      "cell_type": "code",
      "execution_count": null,
      "metadata": {
        "id": "L043T3mTLUzM"
      },
      "outputs": [],
      "source": [
        "class MLP:\n",
        "    def __init__(self, input_layer=3072, hidden_layer=[], output_layer=10, epochs=20, active_func=[], batch_size=200, learning_rate=0.1, gamma=0.01, l1reg = 0, l2reg = 0, weight_init = 'random'):\n",
        "        self.gamma=gamma\n",
        "        self.epochs=epochs\n",
        "        self.batch_size=batch_size\n",
        "        self.learning_rate=learning_rate\n",
        "        self.l1reg = l1reg\n",
        "        self.l2reg = l2reg\n",
        "        self.weight_init = weight_init\n",
        "\n",
        "        self.dimensions=[input_layer]\n",
        "        for h in hidden_layer:\n",
        "          self.dimensions.append(h)\n",
        "        self.dimensions.append(output_layer)\n",
        "\n",
        "        self.num_layers = len(self.dimensions)\n",
        "        self.weights = {}\n",
        "        self.bias = {}\n",
        "        self.active_func = {}\n",
        "\n",
        "        count=0\n",
        "        rng=len(active_func)\n",
        "        if (rng==0):\n",
        "          self.active_func[2]=Softmax\n",
        "        else:\n",
        "          for i in range(rng):\n",
        "              count=i+2\n",
        "              self.active_func[i + 2] = active_func[i]\n",
        "          self.active_func[count+1]=Softmax\n",
        "\n",
        "        self.loss = Cost_Cross_Entropy(self.active_func[self.num_layers])\n",
        "\n",
        "        self.weight_initializations()\n",
        "\n",
        "    def propagate(self, x):\n",
        "        y_x = {}\n",
        "        y_c = {1: x}\n",
        "        for idx in range(1, self.num_layers):\n",
        "            next_idx=idx+1\n",
        "            y_x[next_idx] = self.bias[idx] + np.dot(y_c[idx], self.weights[idx])\n",
        "            y_c[next_idx] = self.active_func[next_idx].transform(y_x[next_idx], self.gamma)\n",
        "        return y_x, y_c\n",
        "\n",
        "    def back_propagate(self, z, a, y_true):\n",
        "        delta = self.loss.delta(y_true, a[self.num_layers])\n",
        "        dw = np.dot(a[self.num_layers - 1].T, delta)\n",
        "\n",
        "        params = {\n",
        "            self.num_layers - 1: (dw, delta)\n",
        "        }\n",
        "\n",
        "        for i in reversed(range(2, self.num_layers)):\n",
        "            delta = np.dot(delta, self.weights[i].T) * self.active_func[i].derivative(z[i], self.gamma)\n",
        "            dw = np.dot(a[i - 1].T, delta)\n",
        "            params[i - 1] = (dw, delta)\n",
        "\n",
        "        for key, val in params.items():\n",
        "            dw=val[0]\n",
        "            index=key\n",
        "\n",
        "            #l1 reg\n",
        "            dw += self.l1reg * np.sign(-1 * self.weights[index])\n",
        "\n",
        "            #l2 reg\n",
        "            dw += self.l2reg * self.weights[index]\n",
        "\n",
        "            self.weights[index] -= self.learning_rate * dw\n",
        "            self.bias[index] -= self.learning_rate * np.mean(val[1], 0)\n",
        "\n",
        "    def fit(self, X_train, y_train, return_all_loss = False):\n",
        "        epoch_losses = [] #store losses for each epoch\n",
        "\n",
        "        for i in range(self.epochs):\n",
        "            #randomly select the group\n",
        "            seed = np.arange(X_train.shape[0])\n",
        "            np.random.shuffle(seed)\n",
        "            x_ = X_train[seed]\n",
        "            y_ = y_train[seed]\n",
        "            iter = X_train.shape[0] // self.batch_size\n",
        "\n",
        "            for i2 in range(iter):\n",
        "                k = i2 * self.batch_size\n",
        "                l = (i2 + 1) * self.batch_size\n",
        "                y_x, y_c = self.propagate(x_[k:l])\n",
        "                self.back_propagate(y_x, y_c, y_[k:l])\n",
        "\n",
        "            if return_all_loss == True:\n",
        "               _, a = self.propagate(X_train)\n",
        "               y_pred = a[self.num_layers]\n",
        "               train_loss = self.loss(y_train, y_pred)\n",
        "               epoch_losses.append(train_loss)\n",
        "\n",
        "            elif (i + 1) % 10 == 0:\n",
        "               _, a = self.propagate(X_train)\n",
        "               y_pred = a[self.num_layers]\n",
        "               train_loss = self.loss(y_train, y_pred)\n",
        "               epoch_losses.append(train_loss)\n",
        "        return epoch_losses\n",
        "\n",
        "    def predict(self, x):\n",
        "        y_x, y_c = self.propagate(x)\n",
        "        return np.argmax(y_c[self.num_layers],axis=1)\n",
        "\n",
        "    def weight_initializations(self):\n",
        "      rng=len(self.dimensions) - 1\n",
        "\n",
        "      if self.weight_init == 'uniform':\n",
        "        #put small random weights for each layer and divide it by the square root of input size (calibrating variance)\n",
        "        for i in range(rng):\n",
        "            self.weights[i + 1] = np.random.uniform(-1, 1, size = (self.dimensions[i], self.dimensions[i+1]))\n",
        "            dim_sqrt = np.sqrt(self.dimensions[i])\n",
        "            self.weights[i + 1]= self.weights[i + 1]/dim_sqrt\n",
        "            self.bias[i + 1] = np.random.uniform(-1, 1, size = (self.dimensions[i+1]))\n",
        "\n",
        "      elif self.weight_init == 'zeros':\n",
        "        for i in range(rng):\n",
        "            self.weights[i + 1] = np.zeros((self.dimensions[i], self.dimensions[i+1]))\n",
        "            self.bias[i + 1] = np.zeros(self.dimensions[i + 1])\n",
        "\n",
        "      elif self.weight_init == 'gaussian':\n",
        "        for i in range(rng):\n",
        "            self.weights[i + 1] = np.random.randn(self.dimensions[i], self.dimensions[i+1])\n",
        "            self.bias[i + 1] = np.zeros(self.dimensions[i + 1]) #should these all be zeros? or\n",
        "\n",
        "      elif self.weight_init == 'xavier':\n",
        "        for i in range(rng):\n",
        "            limit = np.sqrt(6 / (self.dimensions[i] + self.dimensions[i+1]))\n",
        "            self.weights[i + 1] = np.random.uniform(-limit, limit, size=(self.dimensions[i], self.dimensions[i+1]))\n",
        "            dim_sqrt = np.sqrt(self.dimensions[i])\n",
        "            self.weights[i + 1]= self.weights[i + 1]/dim_sqrt\n",
        "            self.bias[i + 1] = np.zeros(self.dimensions[i + 1])\n",
        "\n",
        "      elif self.weight_init == 'kaiming':\n",
        "        for i in range(rng):\n",
        "            std = np.sqrt(2. / self.dimensions[i])\n",
        "            self.weights[i + 1] = np.random.randn(self.dimensions[i], self.dimensions[i+1]) * std\n",
        "            dim_sqrt = np.sqrt(self.dimensions[i])\n",
        "            self.weights[i + 1]= self.weights[i + 1]/dim_sqrt\n",
        "            self.bias[i + 1] = np.zeros(self.dimensions[i + 1])\n",
        "\n",
        "      elif self.weight_init == \"random\":\n",
        "        for i in range(rng):\n",
        "            self.weights[i + 1] = np.random.randn(self.dimensions[i], self.dimensions[i + 1])\n",
        "            dim_sqrt = np.sqrt(self.dimensions[i])\n",
        "            self.weights[i + 1]= self.weights[i + 1]/dim_sqrt\n",
        "            self.bias[i + 1] = np.zeros(self.dimensions[i + 1])\n",
        "      else:\n",
        "        raise ValueError('unknown weight initialization type')\n",
        "\n",
        "    def calculate_training_accuracy(self, X_train, y_train):\n",
        "        \"\"\"\n",
        "        Calculate the training accuracy of the model.\n",
        "\n",
        "        Parameters:\n",
        "        X_train (np.array): Training features.\n",
        "        y_train (np.array): Training labels (one-hot encoded).\n",
        "\n",
        "        Returns:\n",
        "        float: Training accuracy.\n",
        "        \"\"\"\n",
        "        # Forward pass on the training data\n",
        "        _, activations = self.propagate(X_train)\n",
        "        predictions = np.argmax(activations[self.num_layers], axis=1)\n",
        "        true_labels = np.argmax(y_train, axis=1)\n",
        "\n",
        "        # Calculate accuracy\n",
        "        accuracy = self.evaluate(true_labels, predictions)\n",
        "        return accuracy\n",
        "\n",
        "    def loss(y_true, y_pred):\n",
        "        \"\"\"\n",
        "        Compute the cross-entropy loss.\n",
        "\n",
        "        :param y_true: True labels.\n",
        "        :param y_pred: Predicted labels/probabilities.\n",
        "        :return: Computed loss.\n",
        "        \"\"\"\n",
        "        epsilon=1e-12\n",
        "        y_pred = np.clip(y_pred, epsilon, 1. - epsilon)\n",
        "        N = y_pred.shape[0]\n",
        "        loss = -np.sum(y_true*np.log(y_pred+1e-9))/N\n",
        "        return loss\n",
        "\n",
        "    @staticmethod\n",
        "    def compute_loss(y_true, y_pred):\n",
        "        epsilon = 1e-12\n",
        "        y_pred = np.clip(y_pred, epsilon, 1. - epsilon)\n",
        "        N = y_pred.shape[0]\n",
        "        loss = -np.sum(y_true * np.log(y_pred + 1e-9)) / N\n",
        "        return loss\n",
        "\n",
        "    def calculate_training_error(self, X_train, y_train):\n",
        "        \"\"\"\n",
        "        Calculate the training error of the model.\n",
        "\n",
        "        Parameters:\n",
        "        X_train (np.array): Training features.\n",
        "        y_train (np.array): Training labels (one-hot encoded).\n",
        "\n",
        "        Returns:\n",
        "        float: Training error.\n",
        "        \"\"\"\n",
        "        # Forward pass on the training data\n",
        "        _, activations = self.propagate(X_train)\n",
        "        y_pred = activations[self.num_layers]\n",
        "\n",
        "        # Calculate the cross-entropy loss\n",
        "        training_error = self.loss.loss(y_train, y_pred)\n",
        "        return training_error\n",
        "\n",
        "    @staticmethod\n",
        "    def evaluate (true_,predicted):\n",
        "        predicted_shape=predicted.shape[0]\n",
        "        return np.sum(true_ == predicted)/predicted_shape\n"
      ]
    },
    {
      "cell_type": "code",
      "execution_count": null,
      "metadata": {
        "id": "eLmu9uzILV7f"
      },
      "outputs": [],
      "source": [
        "# Activation Functions\n",
        "class Relu:\n",
        "    def transform(x,gamma=0.01):\n",
        "      return np.maximum(0,x)\n",
        "    def derivative(d, gamma=0.01):\n",
        "        mask = d <= 0\n",
        "        out=d.copy()\n",
        "        out[mask] = 0\n",
        "        out[d>0] = 1\n",
        "        return out\n",
        "\n",
        "class Leaky_Relu:\n",
        "    def transform(x, gamma=0.01):\n",
        "      return np.maximum(0,x) + gamma*np.minimum(0,x)\n",
        "\n",
        "    def derivative(d, gamma=0.01):\n",
        "        mask = d <= 0\n",
        "        out=d.copy()\n",
        "        out[mask] = gamma\n",
        "        out[d>0] = 1\n",
        "        return out\n",
        "\n",
        "class Sigmoid:\n",
        "    def transform(x,gamma=0.01):\n",
        "        return 1 / (1 + np.exp(-x))\n",
        "    def derivative(d, gamma=0.01):\n",
        "        d_transformed = 1 / (1 + np.exp(-d))\n",
        "        return d_transformed * (1 - d_transformed)\n",
        "\n",
        "class Tanh:\n",
        "    def transform(x,gamma=0.01):\n",
        "      return np.tanh(x)\n",
        "\n",
        "    def derivative(d, gamma=0.01):\n",
        "      transformed = Tanh.transform(d,gamma=0.01)\n",
        "      return 1 - transformed**2\n",
        "\n",
        "class Softmax:\n",
        "    def transform(x,gamma=0.01):\n",
        "      exp_ = x-np.max(x)\n",
        "      nx = np.exp(exp_)\n",
        "      sum = np.sum(nx, axis=1, keepdims=True)\n",
        "      return nx/sum\n",
        "\n",
        "    def derivative(d,gamma=0.01):\n",
        "        return Softmax.transform(d,gamma=0.01)*Softmax.transform(1-d,gamma=0.01)"
      ]
    },
    {
      "cell_type": "markdown",
      "metadata": {
        "id": "F4H2qyKubaUC"
      },
      "source": [
        "# **3. Run Experiments**"
      ]
    },
    {
      "cell_type": "code",
      "execution_count": null,
      "metadata": {
        "id": "Fy9MFHG5-ztr"
      },
      "outputs": [],
      "source": [
        "def plot_training_losses(all_train_losses, all_test_losses):\n",
        "  # Plotting the training losses\n",
        "  for i, rate in enumerate(lre):\n",
        "      plt.plot(all_train_losses[i], label=f'LR={rate}')\n",
        "\n",
        "  plt.title('Training Loss per Epoch for Different Learning Rates')\n",
        "  plt.xlabel('Epoch')\n",
        "  plt.ylabel('Training Loss')\n",
        "  plt.legend()\n",
        "  plt.show()\n",
        "\n",
        "  # Plotting the test losses\n",
        "  for i, rate in enumerate(lr):\n",
        "      plt.plot(all_test_losses[i], label=f'LR={rate}')\n",
        "\n",
        "  plt.title('Test Loss per Epoch for Different Learning Rates')\n",
        "  plt.xlabel('Epoch')\n",
        "  plt.ylabel('Test Loss')\n",
        "  plt.legend()\n",
        "  plt.show()"
      ]
    },
    {
      "cell_type": "markdown",
      "metadata": {
        "id": "0bZPohTvV602"
      },
      "source": [
        "##### Epoch Test"
      ]
    },
    {
      "cell_type": "code",
      "source": [
        "epoch_num = [1, 10, 25, 50, 100, 200]\n",
        "train_accuracies = []\n",
        "test_accuracies = []\n",
        "\n",
        "mlp = MLP(input_layer=28*28,   # Since each image is 28x28 pixels, flattened\n",
        "        hidden_layer=[128, 64],  # Example: Two hidden layers with 128 and 64 neurons\n",
        "        output_layer=10,     # 10 classes in FashionMNIST\n",
        "        # epochs=300,           # Example: Number of epochs\n",
        "        active_func=[Relu, Relu], # Activation functions for the hidden layers\n",
        "        batch_size=200,      # Batch size for training\n",
        "        learning_rate=0.005,     # Learning rate\n",
        "        gamma=0.01,          # Gamma parameter for activation functions\n",
        "        l1reg=0.001,         # L1 regularization\n",
        "        l2reg=0.001,         # L2 regularization\n",
        "        weight_init = 'uniform')\n",
        "\n",
        "\n",
        "for epoch in epoch_num:\n",
        "  print(\"Running epoch:\", epoch)\n",
        "  mlp.epochs = epoch\n",
        "  mlp.fit(X_train_fashion, y_train_fashion)\n",
        "  train_acc = mlp.calculate_training_accuracy(X_train_fashion, y_train_fashion)\n",
        "  print(f\"Train Accuracy: {train_acc * 100:.2f}%\")\n",
        "  train_accuracies.append(train_acc)\n",
        "\n",
        "  y_pred = mlp.predict(X_test_fashion)\n",
        "  y_test_labels = np.argmax(y_test_fashion, axis=1)\n",
        "  test_acc = MLP.evaluate(y_test_labels, y_pred)\n",
        "  test_accuracies.append(test_acc)\n",
        "  print(\"Test Accuracy:\", test_acc)\n",
        "  print()\n",
        "\n",
        "\n",
        "# Plot train and test accuracies for different epochs of the same model\n",
        "fig, ax = plt.subplots()\n",
        "\n",
        "ax.plot(epoch_num, train_accuracies, color='r', label='Train Accuracy')\n",
        "ax.plot(epoch_num, test_accuracies, color='b', label='Test Accuracy')\n",
        "\n",
        "ax.set_xlabel(\"Epochs\")\n",
        "ax.set_ylabel(\"Accuracy\")\n",
        "ax.set_title(\"Train vs Test Accuracy\")\n",
        "\n",
        "ax.legend()\n",
        "plt.show()"
      ],
      "metadata": {
        "colab": {
          "base_uri": "https://localhost:8080/",
          "height": 915
        },
        "id": "N_Nb4crm7yyj",
        "outputId": "7b14342f-61f7-4358-ca66-33c9f1691355"
      },
      "execution_count": null,
      "outputs": [
        {
          "output_type": "stream",
          "name": "stdout",
          "text": [
            "Running epoch: 1\n",
            "Train Accuracy: 57.82%\n",
            "Test Accuracy: 0.5767\n",
            "\n",
            "Running epoch: 10\n",
            "Train Accuracy: 81.54%\n",
            "Test Accuracy: 0.806\n",
            "\n",
            "Running epoch: 25\n",
            "Train Accuracy: 85.61%\n",
            "Test Accuracy: 0.8391\n",
            "\n",
            "Running epoch: 50\n",
            "Train Accuracy: 87.80%\n",
            "Test Accuracy: 0.8559\n",
            "\n",
            "Running epoch: 100\n",
            "Train Accuracy: 88.18%\n",
            "Test Accuracy: 0.851\n",
            "\n",
            "Running epoch: 200\n",
            "Train Accuracy: 88.51%\n",
            "Test Accuracy: 0.8472\n",
            "\n"
          ]
        },
        {
          "output_type": "display_data",
          "data": {
            "text/plain": [
              "<Figure size 640x480 with 1 Axes>"
            ],
            "image/png": "[encoded data removed]"
          },
          "metadata": {}
        }
      ]
    },
    {
      "cell_type": "markdown",
      "source": [
        "we found the best number of epoch is 50."
      ],
      "metadata": {
        "id": "fJpj0i_WMwAB"
      }
    },
    {
      "cell_type": "markdown",
      "metadata": {
        "id": "uuNyzM_xV5UJ"
      },
      "source": [
        "##### Learning Rate Test"
      ]
    },
    {
      "cell_type": "code",
      "execution_count": null,
      "metadata": {
        "colab": {
          "base_uri": "https://localhost:8080/"
        },
        "id": "3qRcwqEi6sED",
        "outputId": "13cf8ccc-944b-4a02-eecd-74f335bf1805"
      },
      "outputs": [
        {
          "output_type": "stream",
          "name": "stdout",
          "text": [
            "Current Learning rate: 0.0005\n",
            "Train Accuracy: 75.92%\n",
            "Test Accuracy: 0.754\n",
            "\n",
            "Current Learning rate: 0.001\n",
            "Train Accuracy: 82.98%\n",
            "Test Accuracy: 0.8178\n",
            "\n",
            "Current Learning rate: 0.005\n",
            "Train Accuracy: 87.33%\n",
            "Test Accuracy: 0.8591\n",
            "\n",
            "Current Learning rate: 0.01\n",
            "Train Accuracy: 88.23%\n",
            "Test Accuracy: 0.853\n",
            "\n",
            "Current Learning rate: 0.05\n",
            "Train Accuracy: 85.17%\n",
            "Test Accuracy: 0.8114\n",
            "\n"
          ]
        }
      ],
      "source": [
        "lr = [0.0005, 0.001, 0.005, 0.01, 0.05]\n",
        "learning_rate_train_accuracies = []\n",
        "learning_rate_test_accuracies = []\n",
        "\n",
        "\n",
        "mlp = MLP(input_layer=28*28,   # Since each image is 28x28 pixels, flattened\n",
        "        hidden_layer=[128, 64],  # Example: Two hidden layers with 128 and 64 neurons\n",
        "        output_layer=10,     # 10 classes in FashionMNIST\n",
        "        epochs=50,           # Example: Number of epochs\n",
        "        active_func=[Relu, Relu], # Activation functions for the hidden layers\n",
        "        batch_size=200,      # Batch size for training\n",
        "        gamma=0.01,          # Gamma parameter for activation functions\n",
        "        l1reg=0.001,         # L1 regularization\n",
        "        l2reg=0.001,         # L2 regularization\n",
        "        weight_init = 'uniform')\n",
        "\n",
        "for i in lr:\n",
        "  train_losses = []\n",
        "  test_losses = []\n",
        "\n",
        "  print(\"Current Learning rate:\", i)\n",
        "  mlp.learning_rate = i\n",
        "  mlp.fit(X_train_fashion, y_train_fashion)\n",
        "  train_acc = mlp.calculate_training_accuracy(X_train_fashion, y_train_fashion)\n",
        "  print(f\"Train Accuracy: {train_acc * 100:.2f}%\")\n",
        "  learning_rate_train_accuracies.append(train_acc)\n",
        "\n",
        "  y_pred = mlp.predict(X_test_fashion)\n",
        "  y_test_labels = np.argmax(y_test_fashion, axis=1)\n",
        "  test_acc = MLP.evaluate(y_test_labels, y_pred)\n",
        "  learning_rate_test_accuracies.append(test_acc)\n",
        "  print(\"Test Accuracy:\", test_acc)\n",
        "  print()"
      ]
    },
    {
      "cell_type": "code",
      "source": [
        "print(learning_rate_train_accuracies)"
      ],
      "metadata": {
        "colab": {
          "base_uri": "https://localhost:8080/"
        },
        "id": "0ra30umXRE8e",
        "outputId": "40651aaf-c0fc-4dba-bb73-3b23d43daedf"
      },
      "execution_count": null,
      "outputs": [
        {
          "output_type": "stream",
          "name": "stdout",
          "text": [
            "[0.75925, 0.8297666666666667, 0.8733, 0.8822666666666666, 0.85175]\n"
          ]
        }
      ]
    },
    {
      "cell_type": "code",
      "source": [
        "# Plot train and test accuracies for different epochs of the same model\n",
        "fig, ax = plt.subplots()\n",
        "\n",
        "ax.plot(lr, learning_rate_train_accuracies, color='r', label='Train Accuracy')\n",
        "ax.plot(lr, learning_rate_test_accuracies, color='b', label='Test Accuracy')\n",
        "\n",
        "ax.set_xlabel(\"Epochs\")\n",
        "ax.set_ylabel(\"Accuracy\")\n",
        "ax.set_title(\"Train vs Test Accuracy\")\n",
        "\n",
        "ax.legend()\n",
        "plt.show()"
      ],
      "metadata": {
        "colab": {
          "base_uri": "https://localhost:8080/",
          "height": 472
        },
        "id": "XrG8DxopQhaf",
        "outputId": "110dc98a-8f76-4814-9ee8-3a9a11e9623f"
      },
      "execution_count": null,
      "outputs": [
        {
          "output_type": "display_data",
          "data": {
            "text/plain": [
              "<Figure size 640x480 with 1 Axes>"
            ],
            "image/png": "[encoded data removed]"
          },
          "metadata": {}
        }
      ]
    },
    {
      "cell_type": "markdown",
      "metadata": {
        "id": "fHuaH4Q_7ytd"
      },
      "source": [
        "## Task 1: Effects of weight-initialization methods on model performance\n"
      ]
    },
    {
      "cell_type": "code",
      "source": [
        "# Function to train and evaluate an MLP model\n",
        "def train_and_evaluate_mlp(weight_init):\n",
        "    mlp = MLP(input_layer=28*28,\n",
        "              hidden_layer=[128],\n",
        "              output_layer=10,\n",
        "              epochs=50,\n",
        "              active_func=[Relu],\n",
        "              batch_size=200,\n",
        "              learning_rate=0.005,\n",
        "              gamma=0.01,\n",
        "              l1reg=0.001,\n",
        "              l2reg=0.001,\n",
        "              weight_init=weight_init)\n",
        "    losses = mlp.fit(X_train_fashion, y_train_fashion, return_all_loss = True)\n",
        "    print(losses)\n",
        "\n",
        "    predictions_test = mlp.predict(X_test_fashion)\n",
        "    accuracy_test = mlp.evaluate(np.argmax(y_test_fashion, axis=1), predictions_test)\n",
        "    predictions_train = mlp.predict(X_train_fashion)\n",
        "    accuracy_train = mlp.evaluate(np.argmax(X_train_fashion, axis=1), predictions_train)\n",
        "    #print(f\"Weight Initialization: {weight_init}, Train Accuracy: {accuracy_train:.4f}, Test Accuracy: {accuracy_test:.4f}\")\n",
        "    plt.plot(losses)\n",
        "    plt.title(f\"Weight Initialization: {weight_init}, Train Accuracy: {accuracy_train:.4f}, Test Accuracy: {accuracy_test:.4f}\")\n",
        "    plt.show()\n",
        "\n",
        "# Different types of weight initializations\n",
        "weight_inits = ['zeros', 'uniform', 'gaussian', 'xavier', 'kaiming']\n",
        "\n",
        "for init in weight_inits:\n",
        "    train_and_evaluate_mlp(init)"
      ],
      "metadata": {
        "colab": {
          "base_uri": "https://localhost:8080/",
          "height": 489
        },
        "id": "JJuh1rpnWsMe",
        "outputId": "f9a86cf3-049a-41bd-baac-dfebdc4d7809"
      },
      "execution_count": null,
      "outputs": [
        {
          "output_type": "stream",
          "name": "stdout",
          "text": [
            "[2.3025850929940455, 2.3025850929940455, 2.302585092994046, 2.3025850929940455, 2.3025850929940455, 2.302585092994046, 2.302585092994046, 2.302585092994046, 2.302585092994046, 2.302585092994046, 2.3025850929940463, 2.302585092994046, 2.302585092994046, 2.302585092994046, 2.302585092994046, 2.3025850929940463, 2.302585092994046, 2.302585092994046, 2.302585092994046, 2.3025850929940463, 2.302585092994046, 2.302585092994046, 2.302585092994046, 2.302585092994047, 2.3025850929940463, 2.3025850929940463, 2.302585092994047, 2.302585092994046, 2.3025850929940463, 2.3025850929940463, 2.3025850929940463, 2.3025850929940463, 2.302585092994046, 2.302585092994046, 2.3025850929940463, 2.3025850929940463, 2.3025850929940463, 2.302585092994047, 2.302585092994047, 2.3025850929940463, 2.302585092994047, 2.302585092994047, 2.302585092994047, 2.3025850929940463, 2.302585092994047, 2.302585092994047, 2.302585092994047, 2.3025850929940463, 2.302585092994047, 2.3025850929940463]\n"
          ]
        },
        {
          "output_type": "display_data",
          "data": {
            "text/plain": [
              "<Figure size 640x480 with 1 Axes>"
            ],
            "image/png": "[encoded data removed]"
          },
          "metadata": {}
        }
      ]
    },
    {
      "cell_type": "code",
      "execution_count": null,
      "metadata": {
        "id": "JNTpULsN7l06"
      },
      "outputs": [],
      "source": [
        "# Function to train and evaluate an MLP model\n",
        "def train_and_evaluate_mlp(weight_init):\n",
        "    mlp = MLP(input_layer=28*28,\n",
        "              hidden_layer=[128],\n",
        "              output_layer=10,\n",
        "              epochs=50,\n",
        "              active_func=[Relu],\n",
        "              batch_size=200,\n",
        "              learning_rate=0.005,\n",
        "              gamma=0.01,\n",
        "              l1reg=0.001,\n",
        "              l2reg=0.001,\n",
        "              weight_init=weight_init)\n",
        "    mlp.fit(X_train_fashion, y_train_fashion)\n",
        "\n",
        "    predictions = mlp.predict(X_test_fashion)\n",
        "    accuracy = mlp.evaluate(np.argmax(y_test, axis=1), predictions)\n",
        "    print(f\"Weight Initialization: {weight_init}, Test Accuracy: {accuracy:.4f}\")\n",
        "\n",
        "# Different types of weight initializations\n",
        "weight_inits = ['zeros', 'uniform', 'gaussian', 'xavier', 'kaiming']\n",
        "\n",
        "for init in weight_inits:\n",
        "    train_and_evaluate_mlp(init)"
      ]
    },
    {
      "cell_type": "markdown",
      "metadata": {
        "id": "cs3OHdvT8D3j"
      },
      "source": [
        "## Task 2: Effects of neural network depth on model performance"
      ]
    },
    {
      "cell_type": "code",
      "execution_count": null,
      "metadata": {
        "id": "_7yvYGaY8GAi"
      },
      "outputs": [],
      "source": [
        "# models\n",
        "\n",
        "model_1 = MLP(input_layer=28*28,\n",
        "              hidden_layer=[],\n",
        "              output_layer=10,\n",
        "              epochs=50,\n",
        "              learning_rate=0.005,\n",
        "              weight_init='uniform')\n",
        "\n",
        "# epochs -> 10\n",
        "# learning rate --> 0.001 - 0.01, using 0.05 right now\n",
        "model_2 = MLP(input_layer=28*28,\n",
        "              hidden_layer=[128],\n",
        "              output_layer=10,\n",
        "              epochs=50,\n",
        "              learning_rate=0.005,\n",
        "              active_func = [Relu],\n",
        "              weight_init='uniform')\n",
        "\n",
        "model_3 = MLP(input_layer=28*28,\n",
        "              hidden_layer=[128, 128],\n",
        "              output_layer=10,\n",
        "              epochs=50,\n",
        "              learning_rate=0.005,\n",
        "              active_func = [Relu, Relu],\n",
        "              weight_init='uniform')"
      ]
    },
    {
      "cell_type": "code",
      "execution_count": null,
      "metadata": {
        "id": "5Aio93KF8IPi"
      },
      "outputs": [],
      "source": [
        "# Train the models\n",
        "models = [model_1, model_2, model_3]\n",
        "for model in models:\n",
        "    model.fit(X_train_fashion, y_train_fashion)"
      ]
    },
    {
      "cell_type": "code",
      "execution_count": null,
      "metadata": {
        "id": "ed2v2e0Q8I0O"
      },
      "outputs": [],
      "source": [
        "# Evaluate the models\n",
        "accuracies = []\n",
        "for model in models:\n",
        "    y_pred = model.predict(X_test_fashion)\n",
        "    y_test_labels = np.argmax(y_test_fashion, axis=1)\n",
        "    accuracy = MLP.evaluate(y_test_labels, y_pred)\n",
        "    accuracies.append(accuracy)"
      ]
    },
    {
      "cell_type": "code",
      "execution_count": null,
      "metadata": {
        "id": "he2N1cEL8Ktk",
        "colab": {
          "base_uri": "https://localhost:8080/"
        },
        "outputId": "37dfb973-728d-437b-aa94-b4f4917fdade"
      },
      "outputs": [
        {
          "output_type": "stream",
          "name": "stdout",
          "text": [
            "Model 1 Accuracy: 0.8246\n",
            "Model 2 Accuracy: 0.844\n",
            "Model 3 Accuracy: 0.8494\n"
          ]
        }
      ],
      "source": [
        "# Print the accuracies\n",
        "print(\"Model 1 Accuracy:\", accuracies[0])\n",
        "print(\"Model 2 Accuracy:\", accuracies[1])\n",
        "print(\"Model 3 Accuracy:\", accuracies[2])"
      ]
    },
    {
      "cell_type": "markdown",
      "metadata": {
        "id": "PPuV0cOuVc7D"
      },
      "source": [
        "## Task 3: Effect of Different Activation Functions"
      ]
    },
    {
      "cell_type": "code",
      "execution_count": 28,
      "metadata": {
        "id": "mKRh4pGSGHG0"
      },
      "outputs": [],
      "source": [
        "# Initiate the models\n",
        "model_Relu = MLP(input_layer=28*28,\n",
        "              hidden_layer=[128, 128],\n",
        "              output_layer=10,\n",
        "              epochs=100,\n",
        "              learning_rate=0.01,\n",
        "              active_func = [Relu, Relu],\n",
        "              weight_init='uniform')\n",
        "\n",
        "model_Leaky_Relu = MLP(input_layer=28*28,\n",
        "              hidden_layer=[128, 128],\n",
        "              output_layer=10,\n",
        "              epochs=100,\n",
        "              learning_rate=0.01,\n",
        "              active_func = [Leaky_Relu, Leaky_Relu],\n",
        "              weight_init='uniform')\n",
        "\n",
        "model_Sigmoid = MLP(input_layer=28*28,\n",
        "              hidden_layer=[128, 128],\n",
        "              output_layer=10,\n",
        "              epochs=100,\n",
        "              learning_rate=0.01,\n",
        "              active_func = [Sigmoid, Sigmoid],\n",
        "              weight_init='uniform')"
      ]
    },
    {
      "cell_type": "code",
      "execution_count": 29,
      "metadata": {
        "id": "aWOfN_zRG8mU"
      },
      "outputs": [],
      "source": [
        "# Train the models\n",
        "models = [model_Relu, model_Leaky_Relu, model_Sigmoid]\n",
        "for model in models:\n",
        "    model.fit(X_train_fashion, y_train_fashion)"
      ]
    },
    {
      "cell_type": "code",
      "execution_count": 30,
      "metadata": {
        "id": "YBXB-Sc_HJHI"
      },
      "outputs": [],
      "source": [
        "# Evaluate the models\n",
        "accuracies = []\n",
        "for model in models:\n",
        "    y_pred = model.predict(X_test_fashion)\n",
        "    y_test_labels = np.argmax(y_test_fashion, axis=1)\n",
        "    accuracy = MLP.evaluate(y_test_labels, y_pred)\n",
        "    accuracies.append(accuracy)"
      ]
    },
    {
      "cell_type": "code",
      "execution_count": 41,
      "metadata": {
        "id": "j41hPnX73KJt",
        "colab": {
          "base_uri": "https://localhost:8080/",
          "height": 114
        },
        "outputId": "7a6e2090-82b9-4abe-9969-afd909533f47"
      },
      "outputs": [
        {
          "output_type": "display_data",
          "data": {
            "text/plain": [
              "<Figure size 300x100 with 1 Axes>"
            ],
            "image/png": "[encoded data removed]"
          },
          "metadata": {}
        }
      ],
      "source": [
        "# Show results in a table\n",
        "activation_function = [\"ReLu\", \"Leaky ReLu\", \"Sigmoid\"]\n",
        "\n",
        "fig, ax = plt.subplots(figsize=(3, 1))\n",
        "\n",
        "ax.axis('off')\n",
        "\n",
        "table_data = list(zip(activation_function, accuracies))\n",
        "columns = [\"Activation Function\", \"Accuracy\"]\n",
        "ax.table(cellText=table_data, colLabels=columns, cellLoc = 'center', loc='center')\n",
        "\n",
        "plt.show()"
      ]
    },
    {
      "cell_type": "markdown",
      "metadata": {
        "id": "IkEx1IL9I5HL"
      },
      "source": [
        "## Task 4: Effect of Different Regularization Strengths"
      ]
    },
    {
      "cell_type": "markdown",
      "source": [
        "#### Fashion MNIST\n",
        "\n"
      ],
      "metadata": {
        "id": "NyTC7exaaHOj"
      }
    },
    {
      "cell_type": "code",
      "execution_count": 42,
      "metadata": {
        "id": "UundIRnCDt1X"
      },
      "outputs": [],
      "source": [
        "# Initialize lambdas\n",
        "lambdas_ = [0.0000001, 0.000001, 0.00001, 0.0001, 0.001, 0.01]"
      ]
    },
    {
      "cell_type": "code",
      "execution_count": 44,
      "metadata": {
        "id": "TR5LeqPH82lz",
        "colab": {
          "base_uri": "https://localhost:8080/"
        },
        "outputId": "7553909e-12bc-45bb-f606-06108ca4bc42"
      },
      "outputs": [
        {
          "output_type": "stream",
          "name": "stdout",
          "text": [
            "With lambda: 1e-07\n",
            "accuracy: 0.8439\n",
            "With lambda: 1e-06\n",
            "accuracy: 0.8407\n",
            "With lambda: 1e-05\n",
            "accuracy: 0.8446\n",
            "With lambda: 0.0001\n",
            "accuracy: 0.8414\n",
            "With lambda: 0.001\n",
            "accuracy: 0.8485\n",
            "With lambda: 0.01\n",
            "accuracy: 0.781\n"
          ]
        }
      ],
      "source": [
        "# L1 regularization\n",
        "L1_accuracies = []\n",
        "for lambda_ in lambdas_:\n",
        "  print(\"With lambda: \" + str(lambda_))\n",
        "  model_L1 = MLP(input_layer=28*28,\n",
        "              hidden_layer=[128, 128],\n",
        "              output_layer=10,\n",
        "              epochs=20,\n",
        "              learning_rate=0.01,\n",
        "              active_func = [Relu, Relu],\n",
        "              l1reg = lambda_,\n",
        "              weight_init='uniform')\n",
        "  model_L1.fit(X_train_fashion, y_train_fashion)\n",
        "  y_pred = model_L1.predict(X_test_fashion)\n",
        "  y_test_labels = np.argmax(y_test_fashion, axis=1)\n",
        "  accuracy = MLP.evaluate(y_test_labels, y_pred)\n",
        "  print(\"accuracy:\", accuracy)\n",
        "  L1_accuracies.append(accuracy)"
      ]
    },
    {
      "cell_type": "code",
      "execution_count": 45,
      "metadata": {
        "id": "nDGTQuQ8VgRZ",
        "colab": {
          "base_uri": "https://localhost:8080/"
        },
        "outputId": "9468ec0c-705a-4b5f-e0a1-a73bbe6df2ce"
      },
      "outputs": [
        {
          "output_type": "stream",
          "name": "stdout",
          "text": [
            "With lambda: 1e-07\n",
            "accuracy: 0.8299\n",
            "With lambda: 1e-06\n",
            "accuracy: 0.8445\n",
            "With lambda: 1e-05\n",
            "accuracy: 0.8412\n",
            "With lambda: 0.0001\n",
            "accuracy: 0.8426\n",
            "With lambda: 0.001\n",
            "accuracy: 0.8419\n",
            "With lambda: 0.01\n",
            "accuracy: 0.8219\n"
          ]
        }
      ],
      "source": [
        "# L2 regularization\n",
        "L2_accuracies = []\n",
        "for lambda_ in lambdas_:\n",
        "  print(\"With lambda: \" + str(lambda_))\n",
        "  model_L2 = MLP(input_layer=28*28,\n",
        "              hidden_layer=[128, 128],\n",
        "              output_layer=10,\n",
        "              epochs=20,\n",
        "              learning_rate=0.01,\n",
        "              active_func = [Relu, Relu],\n",
        "              l2reg = lambda_,\n",
        "              weight_init='uniform')\n",
        "  model_L2.fit(X_train_fashion, y_train_fashion)\n",
        "  y_pred = model_L2.predict(X_test_fashion)\n",
        "  y_test_labels = np.argmax(y_test_fashion, axis=1)\n",
        "  accuracy = MLP.evaluate(y_test_labels, y_pred)\n",
        "  print(\"accuracy:\", accuracy)\n",
        "  L2_accuracies.append(accuracy)"
      ]
    },
    {
      "cell_type": "code",
      "execution_count": 46,
      "metadata": {
        "id": "uK_Vtc7O9aSc",
        "colab": {
          "base_uri": "https://localhost:8080/",
          "height": 153
        },
        "outputId": "d08cb594-402d-441f-e2e2-54292e3dabc3"
      },
      "outputs": [
        {
          "output_type": "display_data",
          "data": {
            "text/plain": [
              "<Figure size 500x150 with 1 Axes>"
            ],
            "image/png": "[encoded data removed]"
          },
          "metadata": {}
        }
      ],
      "source": [
        "# Show results in a table\n",
        "fig, ax = plt.subplots(figsize=(5, 1.5))\n",
        "\n",
        "ax.axis('off')\n",
        "\n",
        "table_data = list(zip(lambdas_, L1_accuracies, L2_accuracies))\n",
        "columns = [\"λ (Lambdas)\", \"L1 Accuracy\", \"L2 Accuracy\"]\n",
        "ax.table(cellText=table_data, colLabels=columns, cellLoc='center', loc='center')\n",
        "\n",
        "plt.show()"
      ]
    },
    {
      "cell_type": "markdown",
      "source": [
        "#### CIFAR-10"
      ],
      "metadata": {
        "id": "VjvlbBhegBbN"
      }
    },
    {
      "cell_type": "code",
      "source": [
        "# Initialize lambdas\n",
        "lambdas_ = [0.0000001, 0.000001, 0.00001, 0.0001, 0.001, 0.01]"
      ],
      "metadata": {
        "id": "ErsJNlqSgQnb"
      },
      "execution_count": 47,
      "outputs": []
    },
    {
      "cell_type": "code",
      "source": [
        "# L1 regularization\n",
        "L1_accuracies = []\n",
        "for lambda_ in lambdas_:\n",
        "  print(\"With lambda: \" + str(lambda_))\n",
        "  model_L1 = MLP(input_layer=32*32*3,\n",
        "              hidden_layer=[128, 128],\n",
        "              output_layer=10,\n",
        "              epochs=20,\n",
        "              learning_rate=0.01,\n",
        "              active_func = [Relu, Relu],\n",
        "              l1reg = lambda_,\n",
        "              weight_init='uniform')\n",
        "  model_L1.fit(X_train_cifar, y_train_cifar)\n",
        "  y_pred = model_L1.predict(X_test_cifar)\n",
        "  accuracy = MLP.evaluate(y_test_cifar, y_pred)\n",
        "  print(\"accuracy:\", accuracy)\n",
        "  L1_accuracies.append(accuracy)"
      ],
      "metadata": {
        "id": "p7KHgUy1gRJk",
        "colab": {
          "base_uri": "https://localhost:8080/"
        },
        "outputId": "239d766a-66c3-437a-b14f-6da45ced0700"
      },
      "execution_count": 48,
      "outputs": [
        {
          "output_type": "stream",
          "name": "stdout",
          "text": [
            "With lambda: 1e-07\n",
            "accuracy: 0.4627\n",
            "With lambda: 1e-06\n",
            "accuracy: 0.4671\n",
            "With lambda: 1e-05\n",
            "accuracy: 0.4492\n",
            "With lambda: 0.0001\n",
            "accuracy: 0.4666\n",
            "With lambda: 0.001\n",
            "accuracy: 0.4369\n",
            "With lambda: 0.01\n",
            "accuracy: 0.3128\n"
          ]
        }
      ]
    },
    {
      "cell_type": "code",
      "source": [
        "# L2 regularization\n",
        "L2_accuracies = []\n",
        "for lambda_ in lambdas_:\n",
        "  print(\"With lambda: \" + str(lambda_))\n",
        "  model_L2 = MLP(input_layer=32*32*3,\n",
        "              hidden_layer=[128, 128],\n",
        "              output_layer=10,\n",
        "              epochs=20,\n",
        "              learning_rate=0.01,\n",
        "              active_func = [Relu, Relu],\n",
        "              l2reg = lambda_,\n",
        "              weight_init='uniform')\n",
        "  model_L2.fit(X_train_cifar, y_train_cifar)\n",
        "  y_pred = model_L2.predict(X_test_cifar)\n",
        "  accuracy = MLP.evaluate(y_test_cifar, y_pred)\n",
        "  print(\"accuracy:\", accuracy)\n",
        "  L2_accuracies.append(accuracy)"
      ],
      "metadata": {
        "id": "fTkgCJlugRc4",
        "colab": {
          "base_uri": "https://localhost:8080/"
        },
        "outputId": "6542e988-3659-472e-f54a-52a31d2d329e"
      },
      "execution_count": 49,
      "outputs": [
        {
          "output_type": "stream",
          "name": "stdout",
          "text": [
            "With lambda: 1e-07\n",
            "accuracy: 0.4562\n",
            "With lambda: 1e-06\n",
            "accuracy: 0.4744\n",
            "With lambda: 1e-05\n",
            "accuracy: 0.4517\n",
            "With lambda: 0.0001\n",
            "accuracy: 0.4616\n",
            "With lambda: 0.001\n",
            "accuracy: 0.4612\n",
            "With lambda: 0.01\n",
            "accuracy: 0.4427\n"
          ]
        }
      ]
    },
    {
      "cell_type": "code",
      "source": [
        "# Show results in a table\n",
        "fig, ax = plt.subplots(figsize=(5, 1.5))\n",
        "\n",
        "ax.axis('off')\n",
        "\n",
        "table_data = list(zip(lambdas_, L1_accuracies, L2_accuracies))\n",
        "columns = [\"λ (Lambdas)\", \"L1 Accuracy\", \"L2 Accuracy\"]\n",
        "ax.table(cellText=table_data, colLabels=columns, cellLoc='center', loc='center')\n",
        "\n",
        "plt.show()"
      ],
      "metadata": {
        "id": "KGoFPL8ZgVRx",
        "colab": {
          "base_uri": "https://localhost:8080/",
          "height": 153
        },
        "outputId": "7c54c6a2-9238-4aff-aada-6ad33066da22"
      },
      "execution_count": 50,
      "outputs": [
        {
          "output_type": "display_data",
          "data": {
            "text/plain": [
              "<Figure size 500x150 with 1 Axes>"
            ],
            "image/png": "[encoded data removed]"
          },
          "metadata": {}
        }
      ]
    },
    {
      "cell_type": "markdown",
      "metadata": {
        "id": "fJpr9P3cVmE4"
      },
      "source": [
        "## Task 5: Effect of Input Normalization on Model Accuracy"
      ]
    },
    {
      "cell_type": "markdown",
      "source": [
        "#### Fashion Dataset"
      ],
      "metadata": {
        "id": "PJ-8mg1_3c_r"
      }
    },
    {
      "cell_type": "code",
      "execution_count": 51,
      "metadata": {
        "id": "d3pIGQIzVolT",
        "colab": {
          "base_uri": "https://localhost:8080/"
        },
        "outputId": "97394545-07e4-4e8e-d6d5-503bd9bb3fe5"
      },
      "outputs": [
        {
          "output_type": "stream",
          "name": "stdout",
          "text": [
            "Unormalized Accuracy:  0.864\n",
            "Normalized Accuracy:  0.8379\n"
          ]
        }
      ],
      "source": [
        "# Unormalized\n",
        "model_fashion_unormalized = MLP(input_layer=28*28,\n",
        "              hidden_layer=[128, 128],\n",
        "              output_layer=10,\n",
        "              epochs=20,\n",
        "              learning_rate=0.001,\n",
        "              active_func = [Relu, Relu],\n",
        "              weight_init='uniform')\n",
        "\n",
        "model_fashion_unormalized.fit(unormalized_X_train_fashion, y_train_fashion)\n",
        "\n",
        "y_pred = model_fashion_unormalized.predict(unormalized_X_test_fashion)\n",
        "y_test_labels = np.argmax(y_test_fashion, axis=1)\n",
        "accuracy = MLP.evaluate(y_test_labels, y_pred)\n",
        "print(\"Unormalized Accuracy: \", accuracy)\n",
        "\n",
        "# Normalized\n",
        "model_fashion_normalized = MLP(input_layer=28*28,\n",
        "              hidden_layer=[128, 128],\n",
        "              output_layer=10,\n",
        "              epochs=20,\n",
        "              learning_rate=0.01,\n",
        "              active_func = [Relu, Relu],\n",
        "              weight_init='uniform')\n",
        "model_fashion_normalized.fit(X_train_fashion, y_train_fashion)\n",
        "\n",
        "y_pred = model_fashion_normalized.predict(X_test_fashion)\n",
        "y_test_labels = np.argmax(y_test_fashion, axis=1)\n",
        "accuracy = MLP.evaluate(y_test_labels, y_pred)\n",
        "print(\"Normalized Accuracy: \", accuracy)"
      ]
    },
    {
      "cell_type": "markdown",
      "source": [
        "#### CIFAR-10 dataset\n"
      ],
      "metadata": {
        "id": "ZriUU-we3hUT"
      }
    },
    {
      "cell_type": "code",
      "execution_count": 52,
      "metadata": {
        "id": "cxTMmgk2Gly4",
        "colab": {
          "base_uri": "https://localhost:8080/"
        },
        "outputId": "fa1562c5-590b-4bf4-802a-0d174898b504"
      },
      "outputs": [
        {
          "output_type": "stream",
          "name": "stdout",
          "text": [
            "Unormalized Accuracy:  0.4109\n",
            "Normalized Accuracy:  0.4844\n"
          ]
        }
      ],
      "source": [
        "# Unormalized\n",
        "model_cifar_unormalized = MLP(input_layer=32*32*3,\n",
        "              hidden_layer=[128, 128],\n",
        "              output_layer=10,\n",
        "              epochs=30,\n",
        "              learning_rate=0.0001,\n",
        "              active_func = [Relu, Relu],\n",
        "              weight_init='uniform')\n",
        "model_cifar_unormalized.fit(unormalized_X_train_cifar, y_train_cifar)\n",
        "\n",
        "y_pred = model_cifar_unormalized.predict(unormalized_X_test_cifar)\n",
        "accuracy = MLP.evaluate(y_test_cifar, y_pred)\n",
        "print(\"Unormalized Accuracy: \", accuracy)\n",
        "\n",
        "# Normalized\n",
        "model_cifar_normalized = MLP(input_layer=32*32*3,\n",
        "              hidden_layer=[128, 128],\n",
        "              output_layer=10,\n",
        "              epochs=30,\n",
        "              learning_rate=0.01,\n",
        "              active_func = [Relu, Relu],\n",
        "              weight_init='uniform')\n",
        "model_cifar_normalized.fit(X_train_cifar, y_train_cifar)\n",
        "\n",
        "y_pred = model_cifar_normalized.predict(X_test_cifar)\n",
        "accuracy = MLP.evaluate(y_test_cifar, y_pred)\n",
        "print(\"Normalized Accuracy: \", accuracy)"
      ]
    },
    {
      "cell_type": "markdown",
      "metadata": {
        "id": "KxlB7jpPYiLA"
      },
      "source": [
        "## Task 6/7/8 (CNN)"
      ]
    },
    {
      "cell_type": "code",
      "execution_count": null,
      "metadata": {
        "id": "IkTt-lTOYlvn"
      },
      "outputs": [],
      "source": [
        "import torch.nn as nn\n",
        "import torch.nn.functional as F\n",
        "\n",
        "class CNN(nn.Module):\n",
        "    def __init__(self, in_channels, middle_channels, out_channels, kernel_size, padding, input_size, hidden_size, num_classes):\n",
        "        super(CNN, self).__init__()\n",
        "\n",
        "        self.conv1 = nn.Conv2d(in_channels=in_channels, out_channels=middle_channels, kernel_size=kernel_size, stride=1, padding=padding)\n",
        "        self.conv2 = nn.Conv2d(in_channels=middle_channels, out_channels=out_channels, kernel_size=kernel_size, stride=1, padding=padding)\n",
        "        self.pool = nn.MaxPool2d(2)\n",
        "        self.hidden_layer = nn.Linear(input_size, hidden_size)\n",
        "        self.output_layer = nn.Linear(hidden_size, num_classes)\n",
        "\n",
        "    def forward(self, x):\n",
        "        x = self.pool(F.relu(self.conv1(x)))\n",
        "        x = self.pool(F.relu(self.conv2(x)))\n",
        "        x = torch.flatten(x, start_dim = 1)\n",
        "        x = F.relu(self.hidden_layer(x))\n",
        "        out = F.relu(self.output_layer(x))\n",
        "        return out\n",
        "\n",
        "    def evaluate_acc(self, loader):\n",
        "        correct = 0\n",
        "        total = 0\n",
        "\n",
        "        with torch.no_grad():\n",
        "            for images, labels in loader:\n",
        "                images, labels = images.to(device), labels.to(device)\n",
        "\n",
        "                outputs = self.forward(images)\n",
        "                predicted = torch.argmax(outputs.data, dim=1)\n",
        "\n",
        "                correct += (predicted == labels).sum().item()\n",
        "                total += labels.size(0)\n",
        "\n",
        "        return 100*correct/total\n",
        "\n",
        "def train(model, optimizer, loss_func, n_epochs):\n",
        "  losses = []\n",
        "  test_accs = []\n",
        "  for epoch in range(n_epochs):\n",
        "    epoch_loss = []\n",
        "    epoch_acc = []\n",
        "    # Iterate over data\n",
        "    for batch_idx, (images, labels) in enumerate(train_loader):\n",
        "      # Move tensor to the same device (CPU/GPU) as the model\n",
        "      images, labels = images.to(device), labels.to(device)\n",
        "\n",
        "      # Zero the parameter gradients\n",
        "      optimizer.zero_grad()\n",
        "\n",
        "      # Forward + loss calc + backward + step\n",
        "      outputs = model(images)\n",
        "      loss = loss_func(outputs, labels)\n",
        "      loss.backward()\n",
        "      optimizer.step()\n",
        "\n",
        "      if batch_idx % 500 == 0:\n",
        "        test_acc = model.evaluate_acc(test_loader)\n",
        "        print(f\"Epoch: {epoch+1}, Loss: {loss.item():.4f}, Test Accuracy: {test_acc:.2f}%\")\n",
        "\n",
        "      losses.append(loss.item())\n",
        "      epoch_acc.append(test_acc)\n",
        "    test_accs.append(np.mean(epoch_acc))\n",
        "  return losses, test_accs"
      ]
    },
    {
      "cell_type": "markdown",
      "metadata": {
        "id": "a5-eitaGaV8S"
      },
      "source": [
        "## Task 6 : CNN on FashionMNIST"
      ]
    },
    {
      "cell_type": "code",
      "execution_count": null,
      "metadata": {
        "id": "fiYTmYZ4aTEL"
      },
      "outputs": [],
      "source": [
        "from torchvision import datasets, transforms\n",
        "# Load the built-in dataset MNIST\n",
        "train_dataset = datasets.FashionMNIST(root='./data',\n",
        "                      train=True,\n",
        "                      transform=transforms.ToTensor(),\n",
        "                      download=True)\n",
        "\n",
        "test_dataset = datasets.FashionMNIST(root='./data',\n",
        "                     train=False,\n",
        "                     transform=transforms.ToTensor())\n",
        "\n",
        "batch_size = 100\n",
        "\n",
        "# Create dataloaders\n",
        "train_loader = torch.utils.data.DataLoader(dataset=train_dataset,\n",
        "                                           batch_size=batch_size,\n",
        "                                           shuffle=True)\n",
        "\n",
        "test_loader = torch.utils.data.DataLoader(dataset=test_dataset,\n",
        "                                          batch_size=batch_size,\n",
        "                                          shuffle=False)"
      ]
    },
    {
      "cell_type": "code",
      "execution_count": null,
      "metadata": {
        "id": "gu5YX5glaKIb"
      },
      "outputs": [],
      "source": [
        "device = torch.device('cuda' if torch.cuda.is_available() else 'cpu')\n",
        "model = CNN(1, 16, 32, 5, 2, 32*7*7, 128, 10)\n",
        "model.to(device)\n",
        "loss_func = nn.CrossEntropyLoss()\n",
        "optimizer = torch.optim.SGD(model.parameters(), lr=0.01, momentum = 0.9)\n",
        "losses, test_accs = train(model, optimizer, loss_func, n_epochs=20)\n",
        "final_train_acc = model.evaluate_acc(train_loader)\n",
        "final_test_acc = model.evaluate_acc(test_loader)\n",
        "print(f\"Final Train Accuracy: {final_train_acc:.2f}%, Final Test Accuracy: {final_test_acc:.2f}%\")\n",
        "plt.plot(np.arange(len(losses)), losses, 'r')\n",
        "plt.title('Training loss')\n",
        "plt.xlabel('epoch')\n",
        "plt.ylabel('loss')\n",
        "plt.show()\n",
        "plt.close()\n",
        "plt.plot(np.arange(len(test_accs)), test_accs, 'r')\n",
        "plt.title('Test Accuracy')\n",
        "plt.xlabel('epoch')\n",
        "plt.ylabel('accuracy')\n",
        "plt.show()\n",
        "plt.close()"
      ]
    },
    {
      "cell_type": "markdown",
      "metadata": {
        "id": "jW4uWKjV1GPF"
      },
      "source": [
        "## Task 7 : CNN on CIFAR-10"
      ]
    },
    {
      "cell_type": "code",
      "execution_count": null,
      "metadata": {
        "id": "sP3QlcOR1FjF"
      },
      "outputs": [],
      "source": [
        "import ssl\n",
        "ssl._create_default_https_context = ssl._create_unverified_context\n",
        "# Load the built-in dataset MNIST\n",
        "train_dataset = datasets.CIFAR10(root='./data',\n",
        "                      train=True,\n",
        "                      transform=transforms.ToTensor(),\n",
        "                      download=True)\n",
        "\n",
        "test_dataset = datasets.CIFAR10(root='./data',\n",
        "                     train=False,\n",
        "                     transform=transforms.ToTensor())\n",
        "\n",
        "batch_size = 100\n",
        "\n",
        "# Create dataloaders\n",
        "train_loader = torch.utils.data.DataLoader(dataset=train_dataset,\n",
        "                                           batch_size=batch_size,\n",
        "                                           shuffle=True)\n",
        "\n",
        "test_loader = torch.utils.data.DataLoader(dataset=test_dataset,\n",
        "                                          batch_size=batch_size,\n",
        "                                          shuffle=False)"
      ]
    },
    {
      "cell_type": "code",
      "execution_count": null,
      "metadata": {
        "id": "ggChE2ik1lD3"
      },
      "outputs": [],
      "source": [
        "device = torch.device('cuda' if torch.cuda.is_available() else 'cpu')\n",
        "model = CNN(3, 32, 64, 4, 1, 64*7*7, 128, 10)\n",
        "model.to(device)\n",
        "loss_func = nn.CrossEntropyLoss()\n",
        "optimizer = torch.optim.SGD(model.parameters(), lr=0.005, momentum = 0.9)\n",
        "losses, test_accs = train(model, optimizer, loss_func, n_epochs=30)\n",
        "final_train_acc = model.evaluate_acc(train_loader)\n",
        "final_test_acc = model.evaluate_acc(test_loader)\n",
        "print(f\"Final Train Accuracy: {final_train_acc:.2f}%, Final Test Accuracy: {final_test_acc:.2f}%\")\n",
        "plt.plot(np.arange(len(losses)), losses, 'r')\n",
        "plt.title('Training loss')\n",
        "plt.xlabel('epoch')\n",
        "plt.ylabel('loss')\n",
        "plt.show()\n",
        "plt.close()\n",
        "plt.plot(np.arange(len(test_accs)), test_accs, 'r')\n",
        "plt.title('Test Accuracy')\n",
        "plt.xlabel('epoch')\n",
        "plt.ylabel('accuracy')\n",
        "plt.show()\n",
        "plt.close()"
      ]
    },
    {
      "cell_type": "markdown",
      "metadata": {
        "id": "LgR018DMYiJZ"
      },
      "source": [
        "## Task 8 : CNN with multiple Momentum and Adam Optimizer"
      ]
    },
    {
      "cell_type": "code",
      "execution_count": null,
      "metadata": {
        "id": "cdOqHNn5EP4n"
      },
      "outputs": [],
      "source": [
        "device = torch.device('cuda' if torch.cuda.is_available() else 'cpu')\n",
        "momentum = [0, 0.25, 0.5, 0.75, 0.9, 0.95]\n",
        "for m in momentum:\n",
        "  print(f\"For Momentum = {m}:\")\n",
        "  model = CNN(3, 32, 64, 4, 1, 64*7*7, 128, 10)\n",
        "  model.to(device)\n",
        "  loss_func = nn.CrossEntropyLoss()\n",
        "  optimizer = torch.optim.SGD(model.parameters(), lr=0.005, momentum = m)\n",
        "  losses, test_accs = train(model, optimizer, loss_func, n_epochs=15)\n",
        "  final_train_acc = model.evaluate_acc(train_loader)\n",
        "  final_test_acc = model.evaluate_acc(test_loader)\n",
        "  print(f\"Final Train Accuracy: {final_train_acc:.2f}%, Final Test Accuracy: {final_test_acc:.2f}%\")\n",
        "  plt.plot(np.arange(len(losses)), losses, 'r')\n",
        "  plt.title('Training loss')\n",
        "  plt.xlabel('epoch')\n",
        "  plt.ylabel('loss')\n",
        "  plt.show()\n",
        "  plt.close()\n",
        "  plt.plot(np.arange(len(test_accs)), test_accs, 'r')\n",
        "  plt.title('Test Accuracy')\n",
        "  plt.xlabel('epoch')\n",
        "  plt.ylabel('accuracy')\n",
        "  plt.show()\n",
        "  plt.close()"
      ]
    },
    {
      "cell_type": "code",
      "execution_count": null,
      "metadata": {
        "id": "-sVoAjcNKrue"
      },
      "outputs": [],
      "source": [
        "device = torch.device('cuda' if torch.cuda.is_available() else 'cpu')\n",
        "lr_list = [0.01, 0.005, 0.001, 0.0005, 0.0001]\n",
        "for lr in lr_list:\n",
        "  print(f\"For lr = {lr}:\")\n",
        "  model = CNN(3, 32, 64, 4, 1, 64*7*7, 128, 10)\n",
        "  model.to(device)\n",
        "  loss_func = nn.CrossEntropyLoss()\n",
        "  optimizer = torch.optim.Adam(model.parameters(), lr=lr)\n",
        "  losses, test_accs = train(model, optimizer, loss_func, n_epochs=15)\n",
        "  final_train_acc = model.evaluate_acc(train_loader)\n",
        "  final_test_acc = model.evaluate_acc(test_loader)\n",
        "  print(f\"Final Train Accuracy: {final_train_acc:.2f}%, Final Test Accuracy: {final_test_acc:.2f}%\")\n",
        "  plt.plot(np.arange(len(losses)), losses, 'r')\n",
        "  plt.title('Training loss')\n",
        "  plt.xlabel('epoch')\n",
        "  plt.ylabel('loss')\n",
        "  plt.show()\n",
        "  plt.close()\n",
        "  plt.plot(np.arange(len(test_accs)), test_accs, 'r')\n",
        "  plt.title('Test Accuracy')\n",
        "  plt.xlabel('epoch')\n",
        "  plt.ylabel('accuracy')\n",
        "  plt.show()\n",
        "  plt.close()"
      ]
    },
    {
      "cell_type": "code",
      "execution_count": null,
      "metadata": {
        "id": "oS2hHRgBUxU1"
      },
      "outputs": [],
      "source": [
        "device = torch.device('cuda' if torch.cuda.is_available() else 'cpu')\n",
        "model = CNN(3, 32, 64, 4, 1, 64*7*7, 128, 10)\n",
        "model.to(device)\n",
        "loss_func = nn.CrossEntropyLoss()\n",
        "optimizer = torch.optim.Adam(model.parameters(), lr=0.001)\n",
        "losses, test_accs = train(model, optimizer, loss_func, n_epochs=30)\n",
        "final_train_acc = model.evaluate_acc(train_loader)\n",
        "final_test_acc = model.evaluate_acc(test_loader)\n",
        "print(f\"Final Train Accuracy: {final_train_acc:.2f}%, Final Test Accuracy: {final_test_acc:.2f}%\")\n",
        "plt.plot(np.arange(len(losses)), losses, 'r')\n",
        "plt.title('Training loss')\n",
        "plt.xlabel('epoch')\n",
        "plt.ylabel('loss')\n",
        "plt.show()\n",
        "plt.close()\n",
        "plt.plot(np.arange(len(test_accs)), test_accs, 'r')\n",
        "plt.title('Test Accuracy')\n",
        "plt.xlabel('epoch')\n",
        "plt.ylabel('accuracy')\n",
        "plt.show()\n",
        "plt.close()"
      ]
    }
  ],
  "metadata": {
    "accelerator": "GPU",
    "colab": {
      "collapsed_sections": [
        "UN1NBaBHYXJ0",
        "WEdBlC4pVyRb"
      ],
      "provenance": []
    },
    "kernelspec": {
      "display_name": "Python 3",
      "name": "python3"
    },
    "language_info": {
      "name": "python"
    }
  },
  "nbformat": 4,
  "nbformat_minor": 0
}